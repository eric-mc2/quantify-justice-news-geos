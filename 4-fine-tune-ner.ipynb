{
  "cells": [
    {
      "cell_type": "code",
      "execution_count": null,
      "metadata": {
        "id": "YNy3T0twt7Ox"
      },
      "outputs": [],
      "source": [
        "%pip install optuna"
      ]
    },
    {
      "cell_type": "code",
      "execution_count": null,
      "metadata": {
        "id": "LwNrHZyUDLKa"
      },
      "outputs": [],
      "source": [
        "import shutil\n",
        "import subprocess\n",
        "import os\n",
        "import time\n",
        "import json\n",
        "\n",
        "import pandas as pd\n",
        "import numpy as np\n",
        "from tqdm import tqdm\n",
        "\n",
        "import spacy\n",
        "import optuna\n",
        "from thinc.api import Config"
      ]
    },
    {
      "cell_type": "code",
      "execution_count": null,
      "metadata": {
        "id": "8w3CU2hiDLKc"
      },
      "outputs": [],
      "source": [
        "COLAB = True"
      ]
    },
    {
      "cell_type": "code",
      "execution_count": null,
      "metadata": {
        "id": "I0Z92KYODLKd"
      },
      "outputs": [],
      "source": [
        "DATA_DIR = \"gdrive/MyDrive/Work/quantify-news/\" if COLAB else \"data/\"\n",
        "PROJECT_DIR = \"gdrive/MyDrive/Work/quantify-news/\" if COLAB else \"./\"\n",
        "TMP_DIR = \"/content/\" if COLAB else \"./\"\n",
        "\n",
        "DATA_TRAIN_BIN_PATH = DATA_DIR + \"ner_train.spacy\"\n",
        "DATA_DEV_BIN_PATH = DATA_DIR + \"ner_dev.spacy\"\n",
        "DATA_TEST_BIN_PATH = DATA_DIR + \"ner_test.spacy\"\n",
        "\n",
        "GPU_ID = \"0\" if COLAB else \"-1\"\n",
        "\n",
        "SPACY_CONFIG_PATH = PROJECT_DIR + (\"spacy_base_config_colab.cfg\" if COLAB else \"spacy_base_config.cfg\")\n",
        "SPACY_FULL_CONFIG_PATH = PROJECT_DIR + \"spacy_config.cfg\"\n",
        "\n",
        "MODEL_OUTPUT_PATH = TMP_DIR + \"models/\"\n",
        "LAST_MODEL_PATH = MODEL_OUTPUT_PATH + \"model-last/\"\n",
        "LAST_MODEL_RESULTS_PATH = LAST_MODEL_PATH + \"meta.json\"\n",
        "BEST_MODEL_PATH = PROJECT_DIR + \"model-best/\" # For optuna, not spacy\n",
        "METRICS_OUTPUT_PATH = PROJECT_DIR + \"metrics.json\"\n",
        "SAMPLE_OUTPUT_PATH = PROJECT_DIR + \"metrics_sample\"\n",
        "\n",
        "HP_STUDY_NAME = \"ner_hp\"\n",
        "HP_HISTORY_PATH = \"sqlite:///{}/{}.db\".format(PROJECT_DIR, HP_STUDY_NAME)\n",
        "PARAMS_OUTPUT_PATH = PROJECT_DIR + \"best_params.json\"\n"
      ]
    },
    {
      "cell_type": "code",
      "execution_count": null,
      "metadata": {
        "id": "1HBSqb_6OE_3"
      },
      "outputs": [],
      "source": [
        "if COLAB:\n",
        "    from google.colab import drive\n",
        "    drive.mount('/content/gdrive')\n",
        "    assert spacy.require_gpu()\n",
        "\n",
        "    import locale\n",
        "    print(locale.getpreferredencoding())\n",
        "    def getpreferredencoding(do_setlocale=True):\n",
        "        return 'UTF-8'\n",
        "    locale.getpreferredencoding = getpreferredencoding"
      ]
    },
    {
      "cell_type": "code",
      "execution_count": null,
      "metadata": {
        "id": "uyLTP84GDLKe"
      },
      "outputs": [],
      "source": [
        "spacy_config = Config().from_disk(SPACY_CONFIG_PATH)"
      ]
    },
    {
      "cell_type": "code",
      "execution_count": null,
      "metadata": {
        "id": "kMeoPSLtDLKf"
      },
      "outputs": [],
      "source": [
        "SPACY_BASE_MODEL = spacy_config['components']['ner']['source']"
      ]
    },
    {
      "cell_type": "code",
      "execution_count": null,
      "metadata": {
        "id": "6NSq3JLTDLKg"
      },
      "outputs": [],
      "source": [
        "try:\n",
        "    _ = spacy.load(SPACY_BASE_MODEL)\n",
        "except:\n",
        "    spacy.cli.download(SPACY_BASE_MODEL)"
      ]
    },
    {
      "cell_type": "markdown",
      "metadata": {
        "id": "n86fesV_DLKh"
      },
      "source": [
        "# Fine-Tune Spacy"
      ]
    },
    {
      "cell_type": "code",
      "execution_count": null,
      "metadata": {
        "id": "m4MPiIFTYeoV"
      },
      "outputs": [],
      "source": [
        "!python -m spacy init fill-config {SPACY_CONFIG_PATH} {SPACY_FULL_CONFIG_PATH}"
      ]
    },
    {
      "cell_type": "code",
      "execution_count": null,
      "metadata": {
        "id": "sll0hS12RqBD"
      },
      "outputs": [],
      "source": [
        "# !python -m spacy train {SPACY_FULL_CONFIG_PATH} --gpu-id {GPU_ID} --output {MODEL_OUTPUT_PATH}"
      ]
    },
    {
      "cell_type": "markdown",
      "metadata": {
        "id": "VdgAnLV7DLKk"
      },
      "source": [
        "## Hyperparameter tuning"
      ]
    },
    {
      "cell_type": "code",
      "execution_count": null,
      "metadata": {
        "id": "G1iBHhoxpm1y"
      },
      "outputs": [],
      "source": [
        "def shell(command, time_fmt=None):\n",
        "    start = time.time()\n",
        "    process = subprocess.Popen(command, shell=False,\n",
        "                               stdout=subprocess.PIPE,\n",
        "                               stderr=subprocess.STDOUT,\n",
        "                               text=True,\n",
        "                               encoding='utf-8',\n",
        "                               bufsize=1)\n",
        "    for line in process.stdout:\n",
        "        print(line, end='', flush=True)\n",
        "    process.wait()\n",
        "    end = time.time()\n",
        "\n",
        "    print(time_fmt.format(end - start))\n"
      ]
    },
    {
      "cell_type": "code",
      "execution_count": null,
      "metadata": {
        "id": "JbM8VAr0DLKl"
      },
      "outputs": [],
      "source": [
        "def objective(trial):\n",
        "    start_size = trial.suggest_int(\"start_size\", 100, 500)  # Tune batch start\n",
        "    stop_size = trial.suggest_int(\"stop_size\", 1000, 5000)  # Tune batch stop\n",
        "    learning_rate = trial.suggest_float(\"lr\", 5e-5, 1e-2, log=True)\n",
        "\n",
        "    command = [\n",
        "        \"python\", \"-m\", \"spacy\",\n",
        "        \"train\", SPACY_FULL_CONFIG_PATH,\n",
        "        \"--gpu-id\", {GPU_ID},\n",
        "        \"--training.batcher.size.start\", str(start_size),\n",
        "        \"--training.batcher.size.stop\", str(stop_size),\n",
        "        \"--training.optimizer.learn_rate\", str(learning_rate),\n",
        "        \"--output\", MODEL_OUTPUT_PATH,\n",
        "    ]\n",
        "    # TODO: I can use spacy.cli.train.train here instead of shell proc!\n",
        "    shell(command, \"Training time: {:.4f} sec\")\n",
        "\n",
        "    with open(LAST_MODEL_RESULTS_PATH) as fp:\n",
        "        result = json.load(fp)\n",
        "\n",
        "    return result['performance']['ents_f']\n",
        "\n",
        "\n",
        "\n",
        "class SaveBestModelCallback:\n",
        "    def __call__(self, study: optuna.study.Study, trial: optuna.trial.FrozenTrial) -> None:\n",
        "        if study.best_value <= trial.value:\n",
        "            shutil.copytree(LAST_MODEL_PATH, BEST_MODEL_PATH)"
      ]
    },
    {
      "cell_type": "code",
      "execution_count": null,
      "metadata": {
        "id": "YXzT0nJKigRS"
      },
      "outputs": [],
      "source": [
        "study = optuna.create_study(study_name=HP_STUDY_NAME, direction=\"maximize\",\n",
        "                            storage=HP_HISTORY_PATH, load_if_exists=True,\n",
        "                            callbacks=[SaveBestModelCallback()])"
      ]
    },
    {
      "cell_type": "markdown",
      "metadata": {},
      "source": [
        "XXX: Hyperparameter tuning isn't it. All non-zero runs get around 59% F1 score.\n",
        "TODO is to look at the output of any non-zero training run and check\n",
        "where the model is doing ok or failing."
      ]
    },
    {
      "cell_type": "code",
      "execution_count": null,
      "metadata": {
        "id": "7kBmOU1TDLKm"
      },
      "outputs": [],
      "source": [
        "study.optimize(objective, n_trials=20)"
      ]
    },
    {
      "cell_type": "markdown",
      "metadata": {
        "id": "bjfnOI6RDLKm"
      },
      "source": [
        "# Evaluate"
      ]
    },
    {
      "cell_type": "code",
      "execution_count": null,
      "metadata": {
        "id": "fEY-tNuuiahE"
      },
      "outputs": [],
      "source": [
        "print(\"Best F1 (on val):\")\n",
        "print(study.best_value)\n",
        "print(\"Best params:\")\n",
        "print(study.best_params)"
      ]
    },
    {
      "cell_type": "code",
      "execution_count": null,
      "metadata": {
        "id": "ZHxnYIjYDLKn"
      },
      "outputs": [],
      "source": [
        "if not os.path.exists(SAMPLE_OUTPUT_PATH):\n",
        "    os.mkdir(SAMPLE_OUTPUT_PATH)"
      ]
    },
    {
      "cell_type": "code",
      "execution_count": null,
      "metadata": {
        "id": "blviPAMKZAjF"
      },
      "outputs": [],
      "source": [
        "!python -m spacy \\\n",
        "  benchmark accuracy \\\n",
        "  {BEST_MODEL_PATH} {DATA_TEST_BIN_PATH} \\\n",
        "  --output {METRICS_OUTPUT_PATH} \\\n",
        "  --displacy-path {SAMPLE_OUTPUT_PATH}"
      ]
    }
  ],
  "metadata": {
    "accelerator": "GPU",
    "colab": {
      "gpuType": "T4",
      "provenance": []
    },
    "kernelspec": {
      "display_name": "Python 3",
      "name": "python3"
    },
    "language_info": {
      "codemirror_mode": {
        "name": "ipython",
        "version": 3
      },
      "file_extension": ".py",
      "mimetype": "text/x-python",
      "name": "python",
      "nbconvert_exporter": "python",
      "pygments_lexer": "ipython3",
      "version": "3.12.9"
    }
  },
  "nbformat": 4,
  "nbformat_minor": 0
}
