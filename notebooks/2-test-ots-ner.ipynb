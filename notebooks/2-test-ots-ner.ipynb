{
 "cells": [
  {
   "cell_type": "code",
   "execution_count": 1,
   "metadata": {},
   "outputs": [],
   "source": [
    "import pandas as pd\n",
    "import numpy as np\n",
    "\n",
    "from transformers import pipeline, AutoTokenizer\n",
    "\n",
    "from tqdm import tqdm\n",
    "import spacy"
   ]
  },
  {
   "cell_type": "code",
   "execution_count": 2,
   "metadata": {},
   "outputs": [],
   "source": [
    "COLAB = False"
   ]
  },
  {
   "cell_type": "code",
   "execution_count": null,
   "metadata": {},
   "outputs": [],
   "source": [
    "DATA_DIR = \"gdrive/MyDrive/Work/quantify-news/\" if COLAB else \"data/\"\n",
    "\n",
    "FULL_TEXT_TRAIN_PATH = DATA_DIR + \"newsarticles_article_train.parquet\"\n",
    "FULL_TEXT_DEV_PATH = DATA_DIR + \"newsarticles_article_dev.parquet\"\n",
    "FULL_TEXT_TEST_PATH = DATA_DIR + \"newsarticles_article_test.parquet\"\n",
    "\n",
    "USER_LABELS_TRAIN_PATH = DATA_DIR + \"newsarticles_usercoding_train.csv\"\n",
    "USER_LABELS_DEV_PATH = DATA_DIR + \"newsarticles_usercoding_dev.csv\"\n",
    "USER_LABELS_TEST_PATH = DATA_DIR + \"newsarticles_usercoding_test.csv\"    \n",
    "\n",
    "GEOCODED_PATH = DATA_DIR + \"newsarticles_trainedlocation.parquet\""
   ]
  },
  {
   "cell_type": "markdown",
   "metadata": {},
   "source": [
    "# Read Data"
   ]
  },
  {
   "cell_type": "code",
   "execution_count": 4,
   "metadata": {},
   "outputs": [],
   "source": [
    "article_data = pd.read_parquet(FULL_TEXT_TRAIN_PATH)"
   ]
  },
  {
   "cell_type": "code",
   "execution_count": 5,
   "metadata": {},
   "outputs": [],
   "source": [
    "loc_data = pd.read_csv(USER_LABELS_TRAIN_PATH)"
   ]
  },
  {
   "cell_type": "code",
   "execution_count": 6,
   "metadata": {},
   "outputs": [],
   "source": [
    "loc_texts = loc_data.groupby('article_id',as_index=False).agg({'loc_start':list, 'loc_end':list, 'loc_text':list})\n",
    "ner_data = article_data.merge(loc_texts, left_on='id', right_on='article_id', how='inner')"
   ]
  },
  {
   "cell_type": "markdown",
   "metadata": {},
   "source": [
    "# Test Pretrained Model"
   ]
  },
  {
   "cell_type": "code",
   "execution_count": 7,
   "metadata": {},
   "outputs": [],
   "source": [
    "from dataclasses import dataclass\n",
    "\n",
    "@dataclass\n",
    "class RowScore:\n",
    "    true_pos: int\n",
    "    false_pos: int\n",
    "    false_neg: int\n",
    "\n",
    "    def __init__(self, true_pos, false_pos, false_neg):\n",
    "        if true_pos + false_pos == 0:\n",
    "            self.precision = 0\n",
    "        else:\n",
    "            self.precision = true_pos / (true_pos + false_pos)\n",
    "        \n",
    "        if true_pos + false_neg == 0:\n",
    "            self.recall = 0\n",
    "        else:\n",
    "            self.recall = true_pos / (true_pos + false_neg)\n",
    "        \n",
    "        if self.precision == 0 or self.recall == 0:\n",
    "            self.f1 = 0\n",
    "        else:\n",
    "            self.f1 = 2 / (1 / self.precision + 1 / self.recall)\n",
    "    \n",
    "    def __str__(self):\n",
    "        return f\"RowScore(precision={self.precision:.2e}, recall={self.recall:.2e}, f1={self.f1:.2e})\"\n",
    "\n",
    "    def __add__(self, other):\n",
    "        if not isinstance(other, RowScore):\n",
    "            raise TypeError(\"other must be RowScore\")\n",
    "        return RowScore(self.true_pos + other.true_pos, \n",
    "                        self.false_pos + other.false_pos, \n",
    "                        self.false_neg + other.false_neg)\n",
    "    \n",
    "    def f1_strict(self):\n",
    "        print(self.true_pos, self.false_pos, self.false_neg)\n",
    "        print(\"Strict index and text matches:\")\n",
    "        print(\"Precision: {:.4f}\".format(self.precision))\n",
    "        print(\"Recall: {:.4f}\".format(self.recall))\n",
    "        print(\"F1: {:.4f}\".format(self.f1))\n",
    "        return self.f1"
   ]
  },
  {
   "cell_type": "code",
   "execution_count": 8,
   "metadata": {},
   "outputs": [],
   "source": [
    "@dataclass\n",
    "class Entity:\n",
    "    label: str\n",
    "    start: int\n",
    "    end: int\n",
    "    text: str\n",
    "\n",
    "def predict_batch(batch, model, batch_size):\n",
    "    batch_entities = model(batch.bodytext.to_list(), batch_size=batch_size)\n",
    "    return dict(zip(batch.id, batch_entities))\n",
    "\n",
    "def score_batch(batch, model, batch_size):\n",
    "    total_score = RowScore(0,0,0)\n",
    "    batch_entities = model(batch.bodytext.to_list(), batch_size=batch_size)\n",
    "    for row, entities in zip(batch.itertuples(), batch_entities):\n",
    "        total_score += score_row(row, entities)\n",
    "    return total_score\n",
    "\n",
    "def score_row(row, entities):\n",
    "    y_pred = {e.text.strip() for e in entities if e.label == 'LOC'}\n",
    "    y_true = {t.strip() for t in row.loc_text}\n",
    "    true_pos = len(y_true & y_pred)\n",
    "    false_pos = len(y_pred - y_true)\n",
    "    false_neg = len(y_true - y_pred)\n",
    "    return RowScore(true_pos, false_pos, false_neg)"
   ]
  },
  {
   "cell_type": "markdown",
   "metadata": {},
   "source": [
    "## HuggingFace"
   ]
  },
  {
   "cell_type": "code",
   "execution_count": 9,
   "metadata": {},
   "outputs": [],
   "source": [
    "# Play around with other models from https://huggingface.co/docs/transformers/v4.17.0/en/index#supported-models\n",
    "BASE_MODEL_CLF = \"albert-base-v2\" # \"distilbert-base-uncased\"\n",
    "BASE_MODEL_NER = \"dbmdz/bert-large-cased-finetuned-conll03-english\" # \"distilbert-base-uncased\"\n",
    "\n",
    "# OUTPUT_MODEL_CLF = \"albert-base-v2-chi-loc\" # \"distilbert-chi-loc\"\n",
    "# OUTPUT_MODEL_NER = \"dbmz-bert-loc-ner\" # \"distilbert-chi-loc\""
   ]
  },
  {
   "cell_type": "code",
   "execution_count": 10,
   "metadata": {},
   "outputs": [
    {
     "name": "stderr",
     "output_type": "stream",
     "text": [
      "Some weights of the model checkpoint at dbmdz/bert-large-cased-finetuned-conll03-english were not used when initializing BertForTokenClassification: ['bert.pooler.dense.bias', 'bert.pooler.dense.weight']\n",
      "- This IS expected if you are initializing BertForTokenClassification from the checkpoint of a model trained on another task or with another architecture (e.g. initializing a BertForSequenceClassification model from a BertForPreTraining model).\n",
      "- This IS NOT expected if you are initializing BertForTokenClassification from the checkpoint of a model that you expect to be exactly identical (initializing a BertForSequenceClassification model from a BertForSequenceClassification model).\n",
      "Device set to use cpu\n"
     ]
    }
   ],
   "source": [
    "ner_pipe = pipeline(\"ner\", model=BASE_MODEL_NER, aggregation_strategy='average')"
   ]
  },
  {
   "cell_type": "code",
   "execution_count": 11,
   "metadata": {},
   "outputs": [],
   "source": [
    "PIPE_BATCH_SIZE = 32\n",
    "def hgf_scorer(texts, batch_size):\n",
    "    entities = ner_pipe(texts, batch_size=batch_size)\n",
    "    entities = [Entity(e['entity_group'], e['start'], e['end'], e['word']) for e in entities]\n",
    "    return entities"
   ]
  },
  {
   "cell_type": "markdown",
   "metadata": {},
   "source": [
    "#### Optimize Batch Size"
   ]
  },
  {
   "cell_type": "code",
   "execution_count": 12,
   "metadata": {},
   "outputs": [],
   "source": [
    "import time\n",
    "batch_sizes = [1, 2, 4, 8, 16, 32]\n",
    "texts = ner_data.bodytext.iloc[:512].to_list()"
   ]
  },
  {
   "cell_type": "code",
   "execution_count": 13,
   "metadata": {},
   "outputs": [],
   "source": [
    "# Commented out because batching didn't speed anything up.\n",
    "# for batch_size in batch_sizes:\n",
    "#     start = time.time()\n",
    "#     _ = ner_pipe(texts, batch_size=batch_size)\n",
    "#     end = time.time()\n",
    "#     print(f\"Batch size {batch_size}: {end - start:.4f} sec\")"
   ]
  },
  {
   "cell_type": "code",
   "execution_count": 14,
   "metadata": {},
   "outputs": [],
   "source": [
    "# Commented out because use_cache didn't speed anything up\n",
    "# ner_pipe.model.config.use_cache = True  # May speed up generation tasks\n",
    "# for batch_size in batch_sizes:\n",
    "#     start = time.time()\n",
    "#     _ = ner_pipe(texts, batch_size=batch_size)\n",
    "#     end = time.time()\n",
    "#     print(f\"Batch size {batch_size}: {end - start:.4f} sec\")"
   ]
  },
  {
   "cell_type": "code",
   "execution_count": 15,
   "metadata": {},
   "outputs": [],
   "source": [
    "# Commented out because padding didn't speed anything up.\n",
    "# ner_pipe.model.config.use_cache = False\n",
    "# tokenizer = AutoTokenizer.from_pretrained(BASE_MODEL_NER)\n",
    "# start = time.time()\n",
    "# tokens = tokenizer(texts, padding=\"longest\", truncation=True, return_tensors=\"pt\")\n",
    "# _ = ner_pipe.model(**tokens)#, batch_size=batch_size)\n",
    "# end = time.time()\n",
    "# print(f\"Batch size (?): {end - start:.4f} sec\")"
   ]
  },
  {
   "cell_type": "markdown",
   "metadata": {},
   "source": [
    "#### Actually Run"
   ]
  },
  {
   "cell_type": "code",
   "execution_count": 16,
   "metadata": {},
   "outputs": [],
   "source": [
    "# Commented out because it's too damn slow > 1sec per article.\n",
    "# total_score = RowScore(0,0,0,0)\n",
    "# DF_BATCH_SIZE = PIPE_BATCH_SIZE * 4\n",
    "# ner_data_sorted = ner_data.sort_values('bodytext', key=lambda x: x.str.len())\n",
    "# batches = np.array_split(ner_data_sorted, len(ner_data) // DF_BATCH_SIZE)\n",
    "# for batch in tqdm(batches):\n",
    "#     total_score += score_batch(batch, hgf_scorer)\n",
    "# total_score.f1_strict()\n",
    "# total_score.f1_relax()"
   ]
  },
  {
   "cell_type": "markdown",
   "metadata": {},
   "source": [
    "## Spacy"
   ]
  },
  {
   "cell_type": "code",
   "execution_count": 17,
   "metadata": {},
   "outputs": [],
   "source": [
    "nlp = spacy.load(\"en_core_web_md\")"
   ]
  },
  {
   "cell_type": "code",
   "execution_count": 18,
   "metadata": {},
   "outputs": [],
   "source": [
    "def spacy_ner(doc):\n",
    "    loc_labels = ['FAC', # Buildings, airports, highways, bridges, etc.\n",
    "                  'ORG', # Companies, agencies, institutions, etc.\n",
    "                  'GPE', # Countries, cities, states\n",
    "                  'LOC' # Non-GPE locations, mountain ranges, bodies of water\n",
    "                  'EVENT'] # Named events (e.g., \"World Cup\")\n",
    "\n",
    "    matches = []\n",
    "    for token in doc:\n",
    "        if token.ent_type_ in loc_labels:\n",
    "            match = Entity(\"LOC\", token.idx, token.idx + len(token.text), token.text)\n",
    "            matches.append(match)\n",
    "    return matches\n",
    "\n",
    "def spacy_scorer(texts, **kwargs):\n",
    "    docs = nlp.pipe(texts, \n",
    "                    **kwargs,\n",
    "                    disable=[\"tok2vec\", \"tagger\", \"parser\", \"attribute_ruler\", \"lemmatizer\"])\n",
    "    entities = [spacy_ner(d) for d in docs]\n",
    "    return entities"
   ]
  },
  {
   "cell_type": "markdown",
   "metadata": {},
   "source": [
    "#### Optimize Batch Size"
   ]
  },
  {
   "cell_type": "code",
   "execution_count": 19,
   "metadata": {},
   "outputs": [],
   "source": [
    "# 128 is the winner and 64 is 2nd.\n",
    "# for batch_size in batch_sizes:\n",
    "#     start = time.time()\n",
    "#     _ = spacy_scorer(texts, batch_size=batch_size)\n",
    "#     end = time.time()\n",
    "#     print(f\"Batch size {batch_size}: {end - start:.4f} sec\")"
   ]
  },
  {
   "cell_type": "markdown",
   "metadata": {},
   "source": [
    "#### Optimize nlp.pipe\n"
   ]
  },
  {
   "cell_type": "code",
   "execution_count": 20,
   "metadata": {},
   "outputs": [],
   "source": [
    "# Commented out because multiprocessing didnt speed anything up.\n",
    "# for batch_size in [16,32,64,128]:\n",
    "#     start = time.time()\n",
    "#     _ = spacy_scorer(texts, batch_size=batch_size, n_process=2)\n",
    "#     end = time.time()\n",
    "#     print(f\"Batch size {batch_size}: {end - start:.4f} sec\")"
   ]
  },
  {
   "cell_type": "markdown",
   "metadata": {},
   "source": [
    "#### Actually Run"
   ]
  },
  {
   "cell_type": "code",
   "execution_count": 21,
   "metadata": {},
   "outputs": [],
   "source": [
    "q3 = ner_data.bodytext.str.len().quantile(.75)\n",
    "q1 = ner_data.bodytext.str.len().quantile(.25)\n",
    "iqr = q3 - q1\n",
    "left_outliers = ner_data.bodytext.str.len() < (q1 - 1.5 * iqr)\n",
    "right_outliers = ner_data.bodytext.str.len() > (q3 + 1.5 * iqr)\n",
    "outliers = left_outliers | right_outliers\n",
    "ner_data['very_long'] = right_outliers"
   ]
  },
  {
   "cell_type": "code",
   "execution_count": 22,
   "metadata": {},
   "outputs": [
    {
     "name": "stderr",
     "output_type": "stream",
     "text": [
      "/Users/eric/Dev/quantify-news/.venv/lib/python3.12/site-packages/numpy/core/fromnumeric.py:59: FutureWarning: 'DataFrame.swapaxes' is deprecated and will be removed in a future version. Please use 'DataFrame.transpose' instead.\n",
      "  return bound(*args, **kwds)\n",
      "100%|██████████| 12/12 [00:05<00:00,  2.06it/s]\n"
     ]
    }
   ],
   "source": [
    "PIPE_BATCH_SIZE = 64\n",
    "DF_BATCH_SIZE = PIPE_BATCH_SIZE * 4\n",
    "ner_data_sorted = ner_data.sort_values('bodytext', key=lambda x: x.str.len())\n",
    "ner_data_sorted = ner_data_sorted.iloc[:1000] # XXX: SAMPLING FOR TESTING!\n",
    "batches = np.array_split(ner_data_sorted, len(ner_data) // DF_BATCH_SIZE)\n",
    "entities = dict()\n",
    "for batch in tqdm(batches):\n",
    "    batch_size = 1 if batch['very_long'].any() else PIPE_BATCH_SIZE\n",
    "    entities |= predict_batch(batch, spacy_scorer, batch_size=batch_size)"
   ]
  },
  {
   "cell_type": "code",
   "execution_count": 23,
   "metadata": {},
   "outputs": [],
   "source": [
    "ner_data_sorted['ents'] = ner_data_sorted['id'].map(entities)\n",
    "ner_data_sorted['ent_text'] = ner_data_sorted['ents'].apply(lambda xs: [x.text for x in xs])\n",
    "ner_data_sorted['score'] = ner_data_sorted.apply(lambda x: score_row(x, x.ents), axis=1)"
   ]
  },
  {
   "cell_type": "code",
   "execution_count": 24,
   "metadata": {},
   "outputs": [
    {
     "data": {
      "application/vnd.microsoft.datawrangler.viewer.v0+json": {
       "columns": [
        {
         "name": "index",
         "rawType": "int64",
         "type": "integer"
        },
        {
         "name": "loc_text",
         "rawType": "object",
         "type": "unknown"
        },
        {
         "name": "ent_text",
         "rawType": "object",
         "type": "unknown"
        },
        {
         "name": "score",
         "rawType": "object",
         "type": "unknown"
        }
       ],
       "conversionMethod": "pd.DataFrame",
       "ref": "c9f55da8-f21e-4f1d-88d1-603b7e905b2c",
       "rows": [
        [
         "1873",
         "['Chicago']",
         "['Chicago']",
         "RowScore(precision=1.00e+00, recall=1.00e+00, f1=1.00e+00)"
        ],
        [
         "333",
         "['first block of North Lorel Avenue']",
         "['Tyler', 'LaRiviere']",
         "RowScore(precision=0.00e+00, recall=0.00e+00, f1=0.00e+00)"
        ],
        [
         "2200",
         "['2100 block of South Keeler.']",
         "['Chicago']",
         "RowScore(precision=0.00e+00, recall=0.00e+00, f1=0.00e+00)"
        ],
        [
         "1872",
         "['5200 block of West Grand Avenue.']",
         "['Chicago']",
         "RowScore(precision=0.00e+00, recall=0.00e+00, f1=0.00e+00)"
        ],
        [
         "884",
         "['Chicago']",
         "['Chicago', 'Times']",
         "RowScore(precision=5.00e-01, recall=1.00e+00, f1=6.67e-01)"
        ],
        [
         "1962",
         "['1300 block of West 56th Street,']",
         "['Chicago', 'Englewood']",
         "RowScore(precision=0.00e+00, recall=0.00e+00, f1=0.00e+00)"
        ],
        [
         "892",
         "['3400 block of West 61st Street,']",
         "['Chicago']",
         "RowScore(precision=0.00e+00, recall=0.00e+00, f1=0.00e+00)"
        ],
        [
         "3235",
         "['Chicago']",
         "['Chicago', 'AP', 'Photo', '/', 'Chicago', 'Police', 'Department']",
         "RowScore(precision=1.67e-01, recall=1.00e+00, f1=2.86e-01)"
        ],
        [
         "287",
         "['5500 block of West North Avenue,']",
         "['Austin', 'Chicago']",
         "RowScore(precision=0.00e+00, recall=0.00e+00, f1=0.00e+00)"
        ],
        [
         "1141",
         "['South Side', 'Bronzeville neighborhood.', '4700 block of South Prairie,']",
         "['Chicago', 'Police', 'Stroger', 'Hospital']",
         "RowScore(precision=0.00e+00, recall=0.00e+00, f1=0.00e+00)"
        ],
        [
         "1505",
         "['West Garfield Park neighborhood.', 'Madison and Kilbourn,']",
         "['Madison', 'Chicago', 'Loretto', 'Hospital']",
         "RowScore(precision=0.00e+00, recall=0.00e+00, f1=0.00e+00)"
        ],
        [
         "1521",
         "['3900 block of West Monroe,']",
         "['West', 'Monroe', 'Chicago', 'Mount', 'Sinai', 'Hospital']",
         "RowScore(precision=0.00e+00, recall=0.00e+00, f1=0.00e+00)"
        ],
        [
         "364",
         "['Back of the Yards neighborhood on the South Side.', '4400 block of South Hermitage,']",
         "['South', 'Hermitage', 'Chicago', 'Police']",
         "RowScore(precision=0.00e+00, recall=0.00e+00, f1=0.00e+00)"
        ],
        [
         "313",
         "[\"Macy's flagship store in the Loop.\"]",
         "['CBS', 'Macy', 'Loop']",
         "RowScore(precision=0.00e+00, recall=0.00e+00, f1=0.00e+00)"
        ],
        [
         "1556",
         "['10100 block of South Avenue N.,']",
         "['Chicago']",
         "RowScore(precision=0.00e+00, recall=0.00e+00, f1=0.00e+00)"
        ],
        [
         "2610",
         "['Haan Funeral Home', 'Bridgeview', '8200 block of South Harlem']",
         "['the', 'Haan', 'Funeral', 'Home', 'Bridgeview', 'South', 'Harlem']",
         "RowScore(precision=1.43e-01, recall=3.33e-01, f1=2.00e-01)"
        ],
        [
         "10",
         "['West Side Austin neighborhood.']",
         "['Austin', 'Mount', 'Sinai', 'Hospital', 'South', 'Lockwood', 'Chicago']",
         "RowScore(precision=0.00e+00, recall=0.00e+00, f1=0.00e+00)"
        ],
        [
         "2844",
         "['West Pullman neighborhood', 'first block of West 124th Street,']",
         "['Chicago', 'Police', 'Roseland', 'Hospital']",
         "RowScore(precision=0.00e+00, recall=0.00e+00, f1=0.00e+00)"
        ],
        [
         "2051",
         "['West Garfield Park neighborhood.', '4700 block of West Huron,']",
         "['West', 'Huron', 'Chicago', 'Mount', 'Sinai', 'Hospital']",
         "RowScore(precision=0.00e+00, recall=0.00e+00, f1=0.00e+00)"
        ],
        [
         "141",
         "['Homan Square neighborhood', 'West Side.', '700 block of South Lawndale']",
         "['Homan', 'Square', 'South', 'Lawndale', 'Chicago', 'Mount', 'Sinai', 'Hospital']",
         "RowScore(precision=0.00e+00, recall=0.00e+00, f1=0.00e+00)"
        ],
        [
         "142",
         "['5900 block of South Princeton,']",
         "['Englewood', 'South', 'Princeton', 'Chicago', 'St.', 'Bernard', 'Hospital']",
         "RowScore(precision=0.00e+00, recall=0.00e+00, f1=0.00e+00)"
        ],
        [
         "961",
         "['Lawrence Avenue and Broadway,']",
         "['Chicago', 'Broadway', 'Chicago', 'Illinois', 'Masonic']",
         "RowScore(precision=0.00e+00, recall=0.00e+00, f1=0.00e+00)"
        ],
        [
         "2096",
         "['100 block of North Michigan Avenue,', 'Chicago', 'Grant Park,']",
         "['Loop', 'Chicago', 'Grant', 'Park']",
         "RowScore(precision=2.50e-01, recall=3.33e-01, f1=2.86e-01)"
        ],
        [
         "1242",
         "['Austin neighborhood on the West Side.', '4900 block of West Harrison Street,']",
         "['Austin', 'Chicago']",
         "RowScore(precision=0.00e+00, recall=0.00e+00, f1=0.00e+00)"
        ],
        [
         "2520",
         "['7100 block of South Winchester,']",
         "['Englewood', 'South', 'Winchester', 'Chicago']",
         "RowScore(precision=0.00e+00, recall=0.00e+00, f1=0.00e+00)"
        ],
        [
         "1687",
         "['4900 block of West Adams,']",
         "['Austin', 'Chicago', 'Loretto', 'Hospital']",
         "RowScore(precision=0.00e+00, recall=0.00e+00, f1=0.00e+00)"
        ],
        [
         "2649",
         "['Humboldt Park neighborhood', '3000 block of West Grand,']",
         "['Chicago', 'Elizabeth', 'Medical', 'Center']",
         "RowScore(precision=0.00e+00, recall=0.00e+00, f1=0.00e+00)"
        ],
        [
         "2179",
         "['East Chatham neighborhood,', '8600 block of South Maryland Avenue']",
         "[]",
         "RowScore(precision=0.00e+00, recall=0.00e+00, f1=0.00e+00)"
        ],
        [
         "2984",
         "['West Englewood neighborhood on the South Side.', '7300 block of South Winchester,']",
         "['South', 'Winchester', 'Chicago', 'Christ', 'Medical', 'Center', 'Oak', 'Lawn']",
         "RowScore(precision=0.00e+00, recall=0.00e+00, f1=0.00e+00)"
        ],
        [
         "2030",
         "['Roseland neighborhood on the Far South Side.', 'first block of West 110th Place,']",
         "['West', '110th', 'Place', 'Chicago', 'Christ', 'Medical', 'Center', 'Oak', 'Lawn']",
         "RowScore(precision=0.00e+00, recall=0.00e+00, f1=0.00e+00)"
        ],
        [
         "237",
         "['West Side Lawndale neighborhood.', '4800 block of West Arthington,']",
         "['Lawndale', 'West', 'Arthington', 'Chicago', 'Stroger', 'Hospital']",
         "RowScore(precision=0.00e+00, recall=0.00e+00, f1=0.00e+00)"
        ],
        [
         "1660",
         "['1100 block of North Massasoit,']",
         "['Austin', 'North', 'Massasoit', 'Chicago']",
         "RowScore(precision=0.00e+00, recall=0.00e+00, f1=0.00e+00)"
        ],
        [
         "2684",
         "['2300 block of West Adams,']",
         "['West', 'Adams', 'Chicago', 'Stroger', 'Hospital']",
         "RowScore(precision=0.00e+00, recall=0.00e+00, f1=0.00e+00)"
        ],
        [
         "2904",
         "['4900 block of South Indiana']",
         "['South', 'Indiana', 'Chicago', 'Police']",
         "RowScore(precision=0.00e+00, recall=0.00e+00, f1=0.00e+00)"
        ],
        [
         "353",
         "['Wicker Park neighborhood on the North Side.', '2000 block of West LeMoyne,']",
         "['Chicago']",
         "RowScore(precision=0.00e+00, recall=0.00e+00, f1=0.00e+00)"
        ],
        [
         "3063",
         "['Pilsen', '1900 block of South Morgan,']",
         "['Pilsen', 'South', 'Morgan', 'Chicago', 'Police']",
         "RowScore(precision=2.00e-01, recall=5.00e-01, f1=2.86e-01)"
        ],
        [
         "2794",
         "['Gresham neighborhood', 'South Side.', '8000 block of South Halsted Street,']",
         "['Gresham', 'South', 'Halsted', 'Street', 'Chicago', 'Christ', 'Medical', 'Center', 'Oak', 'Lawn']",
         "RowScore(precision=0.00e+00, recall=0.00e+00, f1=0.00e+00)"
        ],
        [
         "2033",
         "['200 block of South Western,']",
         "['Chicago']",
         "RowScore(precision=0.00e+00, recall=0.00e+00, f1=0.00e+00)"
        ],
        [
         "635",
         "['Roseland neighborhood on the Far South Side.', '11200 block of South Wentworth,']",
         "['South', 'Wentworth', 'Chicago', 'Christ', 'Medical', 'Center', 'Oak', 'Lawn']",
         "RowScore(precision=0.00e+00, recall=0.00e+00, f1=0.00e+00)"
        ],
        [
         "705",
         "['Lawndale neighborhood']",
         "['Lawndale', 'Chicago', 'Stroger', 'Hospital']",
         "RowScore(precision=0.00e+00, recall=0.00e+00, f1=0.00e+00)"
        ],
        [
         "2125",
         "['100 block of East 24th Place,']",
         "['Chicago', 'Christ', 'Medical', 'Center', 'Oak', 'Lawn']",
         "RowScore(precision=0.00e+00, recall=0.00e+00, f1=0.00e+00)"
        ],
        [
         "2196",
         "['Navy Pier and 31st Street,']",
         "['Lake', 'Michigan', '31st', 'Street', 'Chicago', 'Fire', 'Department', 'Cmdr', 'The', 'U.S.', 'Coast', 'Guard', 'Chicago']",
         "RowScore(precision=0.00e+00, recall=0.00e+00, f1=0.00e+00)"
        ],
        [
         "2541",
         "['Back of the Yards neighborhood', '5400 block of South Winchester']",
         "['Chicago', 'Holy', 'Cross', 'Hospital']",
         "RowScore(precision=0.00e+00, recall=0.00e+00, f1=0.00e+00)"
        ],
        [
         "1088",
         "['CHICAGO', 'Calumet']",
         "['CHICAGO', 'DUI', 'Calumet', 'Chicago', 'Chicago']",
         "RowScore(precision=5.00e-01, recall=1.00e+00, f1=6.67e-01)"
        ],
        [
         "2326",
         "['4700 block of South Ada']",
         "['Chicago', 'Police', 'Stroger', 'Hospital']",
         "RowScore(precision=0.00e+00, recall=0.00e+00, f1=0.00e+00)"
        ],
        [
         "2356",
         "['900 block of North Hamlin,']",
         "['Humboldt', 'Park', 'North', 'Hamlin', 'Chicago', 'Mount', 'Sinai', 'Hospital']",
         "RowScore(precision=0.00e+00, recall=0.00e+00, f1=0.00e+00)"
        ],
        [
         "1013",
         "['5700 block of South Maryland Avenue,']",
         "['Hyde', 'Park', 'South', 'Maryland', 'Avenue', 'Chicago', 'Griffith']",
         "RowScore(precision=0.00e+00, recall=0.00e+00, f1=0.00e+00)"
        ],
        [
         "1162",
         "['Little Village', 'Southwest Side.', '2200 block of South Central Park Avenue,']",
         "['Chicago']",
         "RowScore(precision=0.00e+00, recall=0.00e+00, f1=0.00e+00)"
        ],
        [
         "737",
         "['3100 block of West Jackson,']",
         "['West', 'Jackson', 'Chicago']",
         "RowScore(precision=0.00e+00, recall=0.00e+00, f1=0.00e+00)"
        ],
        [
         "2155",
         "['2700 block of North Lake Shore Drive,']",
         "['CHICAGO', 'Diversey', 'Harbor']",
         "RowScore(precision=0.00e+00, recall=0.00e+00, f1=0.00e+00)"
        ]
       ],
       "shape": {
        "columns": 3,
        "rows": 1000
       }
      },
      "text/html": [
       "<div>\n",
       "<style scoped>\n",
       "    .dataframe tbody tr th:only-of-type {\n",
       "        vertical-align: middle;\n",
       "    }\n",
       "\n",
       "    .dataframe tbody tr th {\n",
       "        vertical-align: top;\n",
       "    }\n",
       "\n",
       "    .dataframe thead th {\n",
       "        text-align: right;\n",
       "    }\n",
       "</style>\n",
       "<table border=\"1\" class=\"dataframe\">\n",
       "  <thead>\n",
       "    <tr style=\"text-align: right;\">\n",
       "      <th></th>\n",
       "      <th>loc_text</th>\n",
       "      <th>ent_text</th>\n",
       "      <th>score</th>\n",
       "    </tr>\n",
       "  </thead>\n",
       "  <tbody>\n",
       "    <tr>\n",
       "      <th>1873</th>\n",
       "      <td>[Chicago]</td>\n",
       "      <td>[Chicago]</td>\n",
       "      <td>RowScore(precision=1.00e+00, recall=1.00e+00, ...</td>\n",
       "    </tr>\n",
       "    <tr>\n",
       "      <th>333</th>\n",
       "      <td>[first block of North Lorel Avenue]</td>\n",
       "      <td>[Tyler, LaRiviere]</td>\n",
       "      <td>RowScore(precision=0.00e+00, recall=0.00e+00, ...</td>\n",
       "    </tr>\n",
       "    <tr>\n",
       "      <th>2200</th>\n",
       "      <td>[2100 block of South Keeler.]</td>\n",
       "      <td>[Chicago]</td>\n",
       "      <td>RowScore(precision=0.00e+00, recall=0.00e+00, ...</td>\n",
       "    </tr>\n",
       "    <tr>\n",
       "      <th>1872</th>\n",
       "      <td>[5200 block of West Grand Avenue.]</td>\n",
       "      <td>[Chicago]</td>\n",
       "      <td>RowScore(precision=0.00e+00, recall=0.00e+00, ...</td>\n",
       "    </tr>\n",
       "    <tr>\n",
       "      <th>884</th>\n",
       "      <td>[Chicago]</td>\n",
       "      <td>[Chicago, Times]</td>\n",
       "      <td>RowScore(precision=5.00e-01, recall=1.00e+00, ...</td>\n",
       "    </tr>\n",
       "    <tr>\n",
       "      <th>...</th>\n",
       "      <td>...</td>\n",
       "      <td>...</td>\n",
       "      <td>...</td>\n",
       "    </tr>\n",
       "    <tr>\n",
       "      <th>3123</th>\n",
       "      <td>[Mount Sinai Hospital.]</td>\n",
       "      <td>[CHICAGO, Chicago, Amanda, Morris, the, Chicag...</td>\n",
       "      <td>RowScore(precision=0.00e+00, recall=0.00e+00, ...</td>\n",
       "    </tr>\n",
       "    <tr>\n",
       "      <th>700</th>\n",
       "      <td>[100 block of South State Street, Monroe stop,...</td>\n",
       "      <td>[CTA, Red, Line, Loop, South, State, Street, C...</td>\n",
       "      <td>RowScore(precision=0.00e+00, recall=0.00e+00, ...</td>\n",
       "    </tr>\n",
       "    <tr>\n",
       "      <th>760</th>\n",
       "      <td>[33rd St. and Damen.]</td>\n",
       "      <td>[CHICAGO, McKinley, Park, Target]</td>\n",
       "      <td>RowScore(precision=0.00e+00, recall=0.00e+00, ...</td>\n",
       "    </tr>\n",
       "    <tr>\n",
       "      <th>1646</th>\n",
       "      <td>[2000 block of South Michigan Avenue]</td>\n",
       "      <td>[Chicago, Northwestern, Memorial, Hospital, Co...</td>\n",
       "      <td>RowScore(precision=0.00e+00, recall=0.00e+00, ...</td>\n",
       "    </tr>\n",
       "    <tr>\n",
       "      <th>896</th>\n",
       "      <td>[2200 block of N. Latrobe]</td>\n",
       "      <td>[CHICAGO]</td>\n",
       "      <td>RowScore(precision=0.00e+00, recall=0.00e+00, ...</td>\n",
       "    </tr>\n",
       "  </tbody>\n",
       "</table>\n",
       "<p>1000 rows × 3 columns</p>\n",
       "</div>"
      ],
      "text/plain": [
       "                                               loc_text  \\\n",
       "1873                                          [Chicago]   \n",
       "333                 [first block of North Lorel Avenue]   \n",
       "2200                      [2100 block of South Keeler.]   \n",
       "1872                 [5200 block of West Grand Avenue.]   \n",
       "884                                           [Chicago]   \n",
       "...                                                 ...   \n",
       "3123                            [Mount Sinai Hospital.]   \n",
       "700   [100 block of South State Street, Monroe stop,...   \n",
       "760                               [33rd St. and Damen.]   \n",
       "1646              [2000 block of South Michigan Avenue]   \n",
       "896                          [2200 block of N. Latrobe]   \n",
       "\n",
       "                                               ent_text  \\\n",
       "1873                                          [Chicago]   \n",
       "333                                  [Tyler, LaRiviere]   \n",
       "2200                                          [Chicago]   \n",
       "1872                                          [Chicago]   \n",
       "884                                    [Chicago, Times]   \n",
       "...                                                 ...   \n",
       "3123  [CHICAGO, Chicago, Amanda, Morris, the, Chicag...   \n",
       "700   [CTA, Red, Line, Loop, South, State, Street, C...   \n",
       "760                   [CHICAGO, McKinley, Park, Target]   \n",
       "1646  [Chicago, Northwestern, Memorial, Hospital, Co...   \n",
       "896                                           [CHICAGO]   \n",
       "\n",
       "                                                  score  \n",
       "1873  RowScore(precision=1.00e+00, recall=1.00e+00, ...  \n",
       "333   RowScore(precision=0.00e+00, recall=0.00e+00, ...  \n",
       "2200  RowScore(precision=0.00e+00, recall=0.00e+00, ...  \n",
       "1872  RowScore(precision=0.00e+00, recall=0.00e+00, ...  \n",
       "884   RowScore(precision=5.00e-01, recall=1.00e+00, ...  \n",
       "...                                                 ...  \n",
       "3123  RowScore(precision=0.00e+00, recall=0.00e+00, ...  \n",
       "700   RowScore(precision=0.00e+00, recall=0.00e+00, ...  \n",
       "760   RowScore(precision=0.00e+00, recall=0.00e+00, ...  \n",
       "1646  RowScore(precision=0.00e+00, recall=0.00e+00, ...  \n",
       "896   RowScore(precision=0.00e+00, recall=0.00e+00, ...  \n",
       "\n",
       "[1000 rows x 3 columns]"
      ]
     },
     "execution_count": 24,
     "metadata": {},
     "output_type": "execute_result"
    }
   ],
   "source": [
    "ner_data_sorted[['loc_text','ent_text','score']]"
   ]
  },
  {
   "cell_type": "markdown",
   "metadata": {},
   "source": [
    "This is missing all the \"[NUM] block of [STREET]\" locations."
   ]
  }
 ],
 "metadata": {
  "kernelspec": {
   "display_name": ".venv",
   "language": "python",
   "name": "python3"
  },
  "language_info": {
   "codemirror_mode": {
    "name": "ipython",
    "version": 3
   },
   "file_extension": ".py",
   "mimetype": "text/x-python",
   "name": "python",
   "nbconvert_exporter": "python",
   "pygments_lexer": "ipython3",
   "version": "3.12.9"
  }
 },
 "nbformat": 4,
 "nbformat_minor": 2
}
