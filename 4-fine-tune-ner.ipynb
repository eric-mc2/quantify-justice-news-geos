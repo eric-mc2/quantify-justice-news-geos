{
 "cells": [
  {
   "cell_type": "code",
   "execution_count": null,
   "metadata": {},
   "outputs": [],
   "source": [
    "import pandas as pd\n",
    "import numpy as np\n",
    "\n",
    "from tqdm import tqdm\n",
    "import spacy\n",
    "import subprocess\n",
    "import os\n",
    "\n",
    "import time\n",
    "import optuna\n",
    "import json\n",
    "\n",
    "from thinc.api import Config\n"
   ]
  },
  {
   "cell_type": "code",
   "execution_count": null,
   "metadata": {},
   "outputs": [],
   "source": [
    "COLAB = False"
   ]
  },
  {
   "cell_type": "code",
   "execution_count": null,
   "metadata": {},
   "outputs": [],
   "source": [
    "DATA_DIR = \"gdrive/MyDrive/Work/quantify-news/\" if COLAB else \"data/\"\n",
    "PROJECT_DIR = \"gdrive/MyDrive/Work/quantify-news/\" if COLAB else \"./\"\n",
    "\n",
    "DATA_TRAIN_BIN_PATH = DATA_DIR + \"ner_train.spacy\"\n",
    "DATA_DEV_BIN_PATH = DATA_DIR + \"ner_dev.spacy\"\n",
    "DATA_TEST_BIN_PATH = DATA_DIR + \"ner_test.spacy\"\n",
    "\n",
    "\n",
    "SPACY_CONFIG_PATH = PROJECT_DIR + (\"spacy_base_config_colab.cfg\" if COLAB else \"spacy_base_config.cfg\")\n",
    "SPACY_FULL_CONFIG_PATH = PROJECT_DIR + \"spacy_config.cfg\"\n",
    "\n",
    "MODEL_OUTPUT_PATH = PROJECT_DIR + \"models\"\n",
    "BEST_MODEL_PATH = MODEL_OUTPUT_PATH + \"/model-best\"\n",
    "METRICS_OUTPUT_PATH = PROJECT_DIR + \"metrics.json\"\n",
    "SAMPLE_OUTPUT_PATH = PROJECT_DIR + \"metrics_sample\"\n"
   ]
  },
  {
   "cell_type": "code",
   "execution_count": null,
   "metadata": {},
   "outputs": [],
   "source": [
    "if COLAB:\n",
    "    from google.colab import drive\n",
    "    drive.mount('/content/gdrive')\n",
    "    assert spacy.require_gpu()\n",
    "\n",
    "    # Fixes encoding issue on Colab with GPUs\n",
    "    import locale\n",
    "    print(locale.getpreferredencoding())\n",
    "    def getpreferredencoding(do_setlocale=True):\n",
    "        return 'UTF-8'\n",
    "    locale.getpreferredencoding = getpreferredencoding"
   ]
  },
  {
   "cell_type": "markdown",
   "metadata": {},
   "source": [
    "# Download base model"
   ]
  },
  {
   "cell_type": "code",
   "execution_count": null,
   "metadata": {},
   "outputs": [],
   "source": [
    "spacy_config = Config().from_disk(SPACY_CONFIG_PATH)"
   ]
  },
  {
   "cell_type": "code",
   "execution_count": null,
   "metadata": {},
   "outputs": [],
   "source": [
    "SPACY_BASE_MODEL = spacy_config['components']['ner']['source']"
   ]
  },
  {
   "cell_type": "code",
   "execution_count": null,
   "metadata": {},
   "outputs": [],
   "source": [
    "try:\n",
    "    _ = spacy.load(SPACY_BASE_MODEL)\n",
    "except:\n",
    "    spacy.cli.download(SPACY_BASE_MODEL)"
   ]
  },
  {
   "cell_type": "markdown",
   "metadata": {},
   "source": [
    "# Fine-Tune Spacy"
   ]
  },
  {
   "cell_type": "code",
   "execution_count": null,
   "metadata": {},
   "outputs": [],
   "source": [
    "\n",
    "command = [\n",
    "    \"python\", \"-m\", \"spacy\", \n",
    "    \"init\", \"fill-config\", \n",
    "    SPACY_CONFIG_PATH, SPACY_FULL_CONFIG_PATH,\n",
    "]\n",
    "\n",
    "subprocess.run(\" \".join(command), check=True, shell=True)\n"
   ]
  },
  {
   "cell_type": "markdown",
   "metadata": {},
   "source": [
    "VSCode transparently prints subprocess stdout but Colab doesn't. \n",
    "But if we run as a shell command then it prints!"
   ]
  },
  {
   "cell_type": "code",
   "execution_count": null,
   "metadata": {},
   "outputs": [],
   "source": [
    "!python -m spacy train {SPACY_FULL_CONFIG_PATH} --gpu-id 0 --output {MODEL_OUTPUT_PATH}"
   ]
  },
  {
   "cell_type": "markdown",
   "metadata": {},
   "source": [
    "## Hyperparameter tuning"
   ]
  },
  {
   "cell_type": "code",
   "execution_count": null,
   "metadata": {},
   "outputs": [],
   "source": [
    "def objective(trial):\n",
    "    start_size = trial.suggest_int(\"start_size\", 100, 500)  # Tune batch start\n",
    "    stop_size = trial.suggest_int(\"stop_size\", 1000, 5000)  # Tune batch stop\n",
    "    learning_rate = trial.suggest_float(\"lr\", 1e-5, 1e-3, log=True)\n",
    "\n",
    "    command = [\n",
    "        \"python\", \"-m\", \"spacy\", \n",
    "        \"train\", SPACY_FULL_CONFIG_PATH,\n",
    "        \"--training.batcher.size.start\", str(start_size),\n",
    "        \"--training.batcher.size.stop\", str(stop_size),\n",
    "        \"--training.optimizer.learn_rate\", str(learning_rate),\n",
    "        \"--output\", MODEL_OUTPUT_PATH,\n",
    "    ]\n",
    "\n",
    "    start = time.time()\n",
    "    # subprocess.run(\" \".join(command), check=True, shell=True)\n",
    "    # Force buffering in real time in Colab\n",
    "    process = subprocess.Popen(\" \".join(command), shell=True, stdout=subprocess.PIPE, stderr=subprocess.STDOUT, text=True, bufsize=1)\n",
    "    for line in process.stdout:\n",
    "        print(line, end='')\n",
    "    process.wait()\n",
    "    end = time.time()\n",
    "    print(f\"Training time: {end - start:.4f} sec\")\n",
    "    with open(MODEL_OUTPUT_PATH + \"/model-best/meta.json\") as fp:\n",
    "        result = json.load(fp)\n",
    "    return result['performance']['ents_f']"
   ]
  },
  {
   "cell_type": "code",
   "execution_count": null,
   "metadata": {},
   "outputs": [],
   "source": [
    "study = optuna.create_study(study_name=\"ner_hp\", direction=\"maximize\")\n",
    "study.optimize(objective, n_trials=20)\n",
    "print(study.best_params)"
   ]
  },
  {
   "cell_type": "markdown",
   "metadata": {},
   "source": [
    "# Evaluate"
   ]
  },
  {
   "cell_type": "markdown",
   "metadata": {},
   "source": [
    "**TODO**: Optuna probably overwrote the best model . Need to rerun with best params.\n",
    "Or instruct it not to overwrite it."
   ]
  },
  {
   "cell_type": "code",
   "execution_count": null,
   "metadata": {},
   "outputs": [],
   "source": [
    "if not os.path.exists(SAMPLE_OUTPUT_PATH):\n",
    "    os.mkdir(SAMPLE_OUTPUT_PATH)\n",
    "\n",
    "command = [\n",
    "    \"python\", \"-m\", \"spacy\",\n",
    "    \"benchmark\", \"accuracy\",\n",
    "    BEST_MODEL_PATH, DATA_TEST_BIN_PATH,\n",
    "    \"--output\", METRICS_OUTPUT_PATH,\n",
    "    \"--displacy-path\", SAMPLE_OUTPUT_PATH\n",
    "    ]\n",
    "\n",
    "subprocess.run(\" \".join(command), check=True, shell=True)\n"
   ]
  }
 ],
 "metadata": {
  "kernelspec": {
   "display_name": ".venv",
   "language": "python",
   "name": "python3"
  },
  "language_info": {
   "codemirror_mode": {
    "name": "ipython",
    "version": 3
   },
   "file_extension": ".py",
   "mimetype": "text/x-python",
   "name": "python",
   "nbconvert_exporter": "python",
   "pygments_lexer": "ipython3",
   "version": "3.12.9"
  }
 },
 "nbformat": 4,
 "nbformat_minor": 2
}
