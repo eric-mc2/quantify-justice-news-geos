{
 "cells": [
  {
   "cell_type": "code",
   "execution_count": null,
   "metadata": {
    "colab": {
     "base_uri": "https://localhost:8080/"
    },
    "executionInfo": {
     "elapsed": 18149,
     "status": "ok",
     "timestamp": 1741928136946,
     "user": {
      "displayName": "Eric Chandler",
      "userId": "10621886328887970051"
     },
     "user_tz": 300
    },
    "id": "6__gM-lBaOHk",
    "outputId": "1ac0c14c-0fa0-4ab3-d9db-7e96168503e6"
   },
   "outputs": [],
   "source": [
    "%pip install overpass pyahocorasick"
   ]
  },
  {
   "cell_type": "code",
   "execution_count": null,
   "metadata": {
    "executionInfo": {
     "elapsed": 2,
     "status": "ok",
     "timestamp": 1741929784849,
     "user": {
      "displayName": "Eric Chandler",
      "userId": "10621886328887970051"
     },
     "user_tz": 300
    },
    "id": "RvoXmAf3Iepc"
   },
   "outputs": [],
   "source": [
    "import shutil\n",
    "import subprocess\n",
    "import os\n",
    "import time\n",
    "import json\n",
    "\n",
    "import re\n",
    "import pandas as pd\n",
    "import geopandas as gpd\n",
    "import numpy as np\n",
    "from tqdm import tqdm\n",
    "import overpass\n",
    "from ahocorasick import Automaton\n",
    "\n",
    "\n",
    "import spacy\n",
    "from spacy.tokens import DocBin"
   ]
  },
  {
   "cell_type": "code",
   "execution_count": null,
   "metadata": {
    "executionInfo": {
     "elapsed": 14,
     "status": "ok",
     "timestamp": 1741928158344,
     "user": {
      "displayName": "Eric Chandler",
      "userId": "10621886328887970051"
     },
     "user_tz": 300
    },
    "id": "V5341mzuIh_w"
   },
   "outputs": [],
   "source": [
    "COLAB = True"
   ]
  },
  {
   "cell_type": "code",
   "execution_count": null,
   "metadata": {
    "executionInfo": {
     "elapsed": 3,
     "status": "ok",
     "timestamp": 1741929769729,
     "user": {
      "displayName": "Eric Chandler",
      "userId": "10621886328887970051"
     },
     "user_tz": 300
    },
    "id": "rgvapPaRIjV7"
   },
   "outputs": [],
   "source": [
    "DATA_DIR = \"gdrive/MyDrive/Work/quantify-news/data/\" if COLAB else \"data/\"\n",
    "PROJECT_DIR = \"gdrive/MyDrive/Work/quantify-news/\" if COLAB else \"./\"\n",
    "TMP_DIR = \"/content/\" if COLAB else \"./\"\n",
    "\n",
    "DATA_TRAIN_BIN_PATH = DATA_DIR + \"ner_train.spacy\"\n",
    "DATA_DEV_BIN_PATH = DATA_DIR + \"ner_dev.spacy\"\n",
    "DATA_TEST_BIN_PATH = DATA_DIR + \"ner_test.spacy\"\n",
    "\n",
    "BEST_MODEL_OPT_PATH = PROJECT_DIR + \"models/model-best/\"\n",
    "\n",
    "PARKS_PATH = DATA_DIR + \"Parks_2025.csv\"\n",
    "COMM_AREA_PATH = DATA_DIR + \"CommAreas_2025.csv\"\n",
    "STREET_NAMES_PATH = DATA_DIR + \"StreetNames_2025.csv\"\n",
    "STREET_SEGMENTS_PATH = DATA_DIR + \"StreetSegments_2025.geojson\"\n",
    "NEIGHBORHOODS_PATH = DATA_DIR + \"Neighborhoods_2025.csv\""
   ]
  },
  {
   "cell_type": "code",
   "execution_count": null,
   "metadata": {
    "colab": {
     "base_uri": "https://localhost:8080/"
    },
    "executionInfo": {
     "elapsed": 17012,
     "status": "ok",
     "timestamp": 1741928175370,
     "user": {
      "displayName": "Eric Chandler",
      "userId": "10621886328887970051"
     },
     "user_tz": 300
    },
    "id": "0Ywdcg6PQ5wb",
    "outputId": "1da6457f-458c-4c38-8bd6-75570d140065"
   },
   "outputs": [],
   "source": [
    "if COLAB:\n",
    "    from google.colab import drive\n",
    "    drive.mount('/content/gdrive')\n",
    "\n",
    "    import locale\n",
    "    print(locale.getpreferredencoding())\n",
    "    def getpreferredencoding(do_setlocale=True):\n",
    "        return 'UTF-8'\n",
    "    locale.getpreferredencoding = getpreferredencoding"
   ]
  },
  {
   "cell_type": "code",
   "execution_count": null,
   "metadata": {
    "executionInfo": {
     "elapsed": 8249,
     "status": "ok",
     "timestamp": 1741928183624,
     "user": {
      "displayName": "Eric Chandler",
      "userId": "10621886328887970051"
     },
     "user_tz": 300
    },
    "id": "jPInwQC8NV2Y"
   },
   "outputs": [],
   "source": [
    "nlp = spacy.load(BEST_MODEL_OPT_PATH)"
   ]
  },
  {
   "cell_type": "markdown",
   "metadata": {
    "id": "4p8dAH-jo87V"
   },
   "source": [
    "# Label text"
   ]
  },
  {
   "cell_type": "code",
   "execution_count": null,
   "metadata": {
    "executionInfo": {
     "elapsed": 7876,
     "status": "ok",
     "timestamp": 1741928864456,
     "user": {
      "displayName": "Eric Chandler",
      "userId": "10621886328887970051"
     },
     "user_tz": 300
    },
    "id": "wZrei6wCNKbE"
   },
   "outputs": [],
   "source": [
    "gold_docs = list(DocBin().from_disk(DATA_TRAIN_BIN_PATH).get_docs(nlp.vocab))"
   ]
  },
  {
   "cell_type": "code",
   "execution_count": null,
   "metadata": {
    "executionInfo": {
     "elapsed": 4,
     "status": "ok",
     "timestamp": 1741928864483,
     "user": {
      "displayName": "Eric Chandler",
      "userId": "10621886328887970051"
     },
     "user_tz": 300
    },
    "id": "Oev1YZgJRBlj"
   },
   "outputs": [],
   "source": [
    "df = pd.DataFrame([e.text for d in gold_docs for e in d.ents],columns=['text'])"
   ]
  },
  {
   "cell_type": "code",
   "execution_count": null,
   "metadata": {
    "executionInfo": {
     "elapsed": 9,
     "status": "ok",
     "timestamp": 1741932430328,
     "user": {
      "displayName": "Eric Chandler",
      "userId": "10621886328887970051"
     },
     "user_tz": 300
    },
    "id": "X-7u0GgGpTZg"
   },
   "outputs": [],
   "source": [
    "import string\n",
    "def contains_substr(texts, keywords):\n",
    "    pattern = \"|\".join(rf\"{re.escape(keyword)}\" for keyword in keywords)\n",
    "    pattern = re.compile(f\"({pattern})\", flags=re.IGNORECASE)\n",
    "    return texts.str.contains(pattern, regex=True)\n",
    "def contains_words(texts, keywords):\n",
    "    pattern = \"|\".join(rf\"\\b{re.escape(keyword)}\\b\" for keyword in keywords)\n",
    "    pattern = re.compile(f\"({pattern})\", flags=re.IGNORECASE)\n",
    "    return texts.str.contains(pattern, regex=True)\n",
    "\n",
    "def contains_fast(texts, keywords, whole_word=True):\n",
    "    texts = texts.str.upper()\n",
    "    keywords = keywords.str.upper()\n",
    "    word_boundaries = set(string.whitespace + string.punctuation)\n",
    "    \n",
    "    automaton = Automaton()\n",
    "    for keyword in keywords:\n",
    "        automaton.add_word(keyword, keyword)\n",
    "    automaton.make_automaton()\n",
    "\n",
    "    def is_word_boundary(text, start, end):\n",
    "        \"\"\"Ensures the match is enclosed by word boundaries\"\"\"\n",
    "        before = start == 0 or text[start - 1] in word_boundaries\n",
    "        after = end == len(text) or text[end] in word_boundaries\n",
    "        return before and after\n",
    "    \n",
    "    def contains_match(text):\n",
    "        if not whole_word:\n",
    "            return any(automaton.iter(text))\n",
    "        for end_idx, keyword in automaton.iter(text):\n",
    "            start_idx = end_idx - len(keyword) + 1\n",
    "            if is_word_boundary(text, start_idx, end_idx + 1):\n",
    "                return True  # Stop early if a valid match is found\n",
    "        return False\n",
    "\n",
    "    return texts.apply(contains_match)  # Much faster than regex for large keyword lists\n"
   ]
  },
  {
   "cell_type": "code",
   "execution_count": null,
   "metadata": {
    "colab": {
     "base_uri": "https://localhost:8080/",
     "height": 426
    },
    "executionInfo": {
     "elapsed": 429345,
     "status": "error",
     "timestamp": 1741931727672,
     "user": {
      "displayName": "Eric Chandler",
      "userId": "10621886328887970051"
     },
     "user_tz": 300
    },
    "id": "V5H9srj-RNYl",
    "outputId": "696335fe-935d-4f96-c8c2-e437662def6d"
   },
   "outputs": [],
   "source": [
    "# df['is_block'] = df['text'].str.contains(r'\\d+ block of [A-Za-z0-9]+')\n",
    "# df['is_community'] = contains_words(df['text'], comm_areas['COMMUNITY'])\n",
    "# df['is_street_full'] = contains_words(df['text'], street_names['Full Street Name'])\n",
    "# df['is_street_name'] = contains_words(df['text'], street_names['Street'])\n",
    "df['is_intersection'] = contains_substr(df['text'], intersections)\n",
    "# df['is_street_partial'] = contains_substr(df['text'], street_names['street_partial'])\n",
    "# df['is_neighborhood'] = contains_words(df['text'], neighborhood_names)\n",
    "# df['is_side'] = contains_words(df['text'], sides)\n",
    "# df['is_hospital'] = contains_words(df['text'], hospitals[~non_hospitals]['name'])\n",
    "# df['is_landmark'] = contains_words(df['text'], landmarks[~non_landmarks]['name'])\n",
    "# df['is_park'] = contains_words(df['text'], parks[~non_parks]['name'])\n",
    "df['unmatched'] = ~df.filter(like='is_').any(axis=1)"
   ]
  },
  {
   "cell_type": "code",
   "execution_count": null,
   "metadata": {
    "executionInfo": {
     "elapsed": 2,
     "status": "ok",
     "timestamp": 1741929468234,
     "user": {
      "displayName": "Eric Chandler",
      "userId": "10621886328887970051"
     },
     "user_tz": 300
    },
    "id": "kSObYctoe9Ah"
   },
   "outputs": [],
   "source": [
    "marginals = pd.concat([\n",
    "    (~df.filter(like='is_').drop(columns=[c]).any(axis=1) & df[c]).rename(c)\n",
    "    for c in df.filter(like='is_').columns], axis=1)"
   ]
  },
  {
   "cell_type": "code",
   "execution_count": null,
   "metadata": {
    "colab": {
     "base_uri": "https://localhost:8080/",
     "height": 366
    },
    "executionInfo": {
     "elapsed": 232,
     "status": "ok",
     "timestamp": 1741929529625,
     "user": {
      "displayName": "Eric Chandler",
      "userId": "10621886328887970051"
     },
     "user_tz": 300
    },
    "id": "_NmEmajmrb9w",
    "outputId": "106958ff-b613-4c45-a21a-45d8d36862da"
   },
   "outputs": [],
   "source": [
    "marginals.mean().sort_values()"
   ]
  },
  {
   "cell_type": "code",
   "execution_count": null,
   "metadata": {
    "colab": {
     "base_uri": "https://localhost:8080/",
     "height": 441
    },
    "executionInfo": {
     "elapsed": 125,
     "status": "ok",
     "timestamp": 1741929680864,
     "user": {
      "displayName": "Eric Chandler",
      "userId": "10621886328887970051"
     },
     "user_tz": 300
    },
    "id": "r-OCuYEns-61",
    "outputId": "68e79c57-1725-4a7a-a697-b6ca29801bc8"
   },
   "outputs": [],
   "source": [
    "df[df['unmatched']]"
   ]
  },
  {
   "cell_type": "code",
   "execution_count": null,
   "metadata": {
    "id": "9mcQEAcSGY7S"
   },
   "outputs": [],
   "source": []
  }
 ],
 "metadata": {
  "colab": {
   "authorship_tag": "ABX9TyOP8JY1NjBm1rladw8PsDqP",
   "provenance": []
  },
  "kernelspec": {
   "display_name": "Python 3",
   "name": "python3"
  },
  "language_info": {
   "name": "python"
  }
 },
 "nbformat": 4,
 "nbformat_minor": 0
}
