{
  "cells": [
    {
      "cell_type": "code",
      "source": [
        "%pip install optuna"
      ],
      "metadata": {
        "colab": {
          "base_uri": "https://localhost:8080/"
        },
        "id": "YNy3T0twt7Ox",
        "outputId": "b10eee80-5f91-4031-c21d-5ff676e96155"
      },
      "execution_count": 1,
      "outputs": [
        {
          "output_type": "stream",
          "name": "stdout",
          "text": [
            "Collecting optuna\n",
            "  Downloading optuna-4.2.1-py3-none-any.whl.metadata (17 kB)\n",
            "Collecting alembic>=1.5.0 (from optuna)\n",
            "  Downloading alembic-1.15.1-py3-none-any.whl.metadata (7.2 kB)\n",
            "Collecting colorlog (from optuna)\n",
            "  Downloading colorlog-6.9.0-py3-none-any.whl.metadata (10 kB)\n",
            "Requirement already satisfied: numpy in /usr/local/lib/python3.11/dist-packages (from optuna) (1.26.4)\n",
            "Requirement already satisfied: packaging>=20.0 in /usr/local/lib/python3.11/dist-packages (from optuna) (24.2)\n",
            "Requirement already satisfied: sqlalchemy>=1.4.2 in /usr/local/lib/python3.11/dist-packages (from optuna) (2.0.38)\n",
            "Requirement already satisfied: tqdm in /usr/local/lib/python3.11/dist-packages (from optuna) (4.67.1)\n",
            "Requirement already satisfied: PyYAML in /usr/local/lib/python3.11/dist-packages (from optuna) (6.0.2)\n",
            "Collecting Mako (from alembic>=1.5.0->optuna)\n",
            "  Downloading Mako-1.3.9-py3-none-any.whl.metadata (2.9 kB)\n",
            "Requirement already satisfied: typing-extensions>=4.12 in /usr/local/lib/python3.11/dist-packages (from alembic>=1.5.0->optuna) (4.12.2)\n",
            "Requirement already satisfied: greenlet!=0.4.17 in /usr/local/lib/python3.11/dist-packages (from sqlalchemy>=1.4.2->optuna) (3.1.1)\n",
            "Requirement already satisfied: MarkupSafe>=0.9.2 in /usr/local/lib/python3.11/dist-packages (from Mako->alembic>=1.5.0->optuna) (3.0.2)\n",
            "Downloading optuna-4.2.1-py3-none-any.whl (383 kB)\n",
            "\u001b[2K   \u001b[90m━━━━━━━━━━━━━━━━━━━━━━━━━━━━━━━━━━━━━━━━\u001b[0m \u001b[32m383.6/383.6 kB\u001b[0m \u001b[31m7.0 MB/s\u001b[0m eta \u001b[36m0:00:00\u001b[0m\n",
            "\u001b[?25hDownloading alembic-1.15.1-py3-none-any.whl (231 kB)\n",
            "\u001b[2K   \u001b[90m━━━━━━━━━━━━━━━━━━━━━━━━━━━━━━━━━━━━━━━━\u001b[0m \u001b[32m231.8/231.8 kB\u001b[0m \u001b[31m14.0 MB/s\u001b[0m eta \u001b[36m0:00:00\u001b[0m\n",
            "\u001b[?25hDownloading colorlog-6.9.0-py3-none-any.whl (11 kB)\n",
            "Downloading Mako-1.3.9-py3-none-any.whl (78 kB)\n",
            "\u001b[2K   \u001b[90m━━━━━━━━━━━━━━━━━━━━━━━━━━━━━━━━━━━━━━━━\u001b[0m \u001b[32m78.5/78.5 kB\u001b[0m \u001b[31m4.6 MB/s\u001b[0m eta \u001b[36m0:00:00\u001b[0m\n",
            "\u001b[?25hInstalling collected packages: Mako, colorlog, alembic, optuna\n",
            "Successfully installed Mako-1.3.9 alembic-1.15.1 colorlog-6.9.0 optuna-4.2.1\n"
          ]
        }
      ]
    },
    {
      "cell_type": "code",
      "execution_count": 2,
      "metadata": {
        "id": "LwNrHZyUDLKa"
      },
      "outputs": [],
      "source": [
        "import shutil\n",
        "import subprocess\n",
        "import os\n",
        "import time\n",
        "import json\n",
        "\n",
        "import pandas as pd\n",
        "import numpy as np\n",
        "from tqdm import tqdm\n",
        "\n",
        "import spacy\n",
        "import optuna\n",
        "from thinc.api import Config"
      ]
    },
    {
      "cell_type": "code",
      "execution_count": 3,
      "metadata": {
        "id": "8w3CU2hiDLKc"
      },
      "outputs": [],
      "source": [
        "COLAB = True"
      ]
    },
    {
      "cell_type": "code",
      "execution_count": 23,
      "metadata": {
        "id": "I0Z92KYODLKd"
      },
      "outputs": [],
      "source": [
        "DATA_DIR = \"gdrive/MyDrive/Work/quantify-news/\" if COLAB else \"data/\"\n",
        "PROJECT_DIR = \"gdrive/MyDrive/Work/quantify-news/\" if COLAB else \"./\"\n",
        "TMP_DIR = \"/content/\" if COLAB else \"./\"\n",
        "\n",
        "GPU_ID = \"0\" if COLAB else \"-1\"\n",
        "\n",
        "DATA_TRAIN_BIN_PATH = DATA_DIR + \"ner_train.spacy\"\n",
        "DATA_DEV_BIN_PATH = DATA_DIR + \"ner_dev.spacy\"\n",
        "DATA_TEST_BIN_PATH = DATA_DIR + \"ner_test.spacy\"\n",
        "INFER_BIN_PATH = DATA_DIR + \"ner_inf.spacy\"\n",
        "\n",
        "SPACY_CONFIG_PATH = PROJECT_DIR + (\"spacy_base_config_colab.cfg\" if COLAB else \"spacy_base_config.cfg\")\n",
        "SPACY_FULL_CONFIG_PATH = PROJECT_DIR + \"spacy_config.cfg\"\n",
        "\n",
        "MODEL_OUTPUT_PATH = TMP_DIR + \"models/\"\n",
        "LAST_MODEL_PATH = MODEL_OUTPUT_PATH + \"model-last/\"\n",
        "LAST_MODEL_RESULTS_PATH = LAST_MODEL_PATH + \"meta.json\"\n",
        "BEST_MODEL_PATH = PROJECT_DIR + \"models/model-best/\" # For optuna, not spacy\n",
        "METRICS_DIR = PROJECT_DIR + \"metrics/\"\n",
        "METRICS_OUTPUT_PATH = METRICS_DIR + \"metrics.json\"\n",
        "SAMPLE_OUTPUT_PATH = METRICS_DIR + \"metrics_sample/\"\n",
        "\n",
        "HP_STUDY_NAME = \"ner_hp\"\n",
        "HP_HISTORY_PATH = \"sqlite:///{}/{}.db\".format(PROJECT_DIR, HP_STUDY_NAME)\n",
        "PARAMS_OUTPUT_PATH = PROJECT_DIR + \"best_params.json\"\n"
      ]
    },
    {
      "cell_type": "code",
      "source": [
        "if COLAB:\n",
        "    from google.colab import drive\n",
        "    drive.mount('/content/gdrive')\n",
        "    # assert spacy.require_gpu()\n",
        "\n",
        "    import locale\n",
        "    print(locale.getpreferredencoding())\n",
        "    def getpreferredencoding(do_setlocale=True):\n",
        "        return 'UTF-8'\n",
        "    locale.getpreferredencoding = getpreferredencoding"
      ],
      "metadata": {
        "colab": {
          "base_uri": "https://localhost:8080/"
        },
        "id": "1HBSqb_6OE_3",
        "outputId": "94ce00de-8b8e-46e9-d638-a363b1f4f528"
      },
      "execution_count": 6,
      "outputs": [
        {
          "output_type": "stream",
          "name": "stdout",
          "text": [
            "Drive already mounted at /content/gdrive; to attempt to forcibly remount, call drive.mount(\"/content/gdrive\", force_remount=True).\n",
            "UTF-8\n"
          ]
        }
      ]
    },
    {
      "cell_type": "code",
      "execution_count": 7,
      "metadata": {
        "id": "uyLTP84GDLKe"
      },
      "outputs": [],
      "source": [
        "spacy_config = Config().from_disk(SPACY_CONFIG_PATH)"
      ]
    },
    {
      "cell_type": "code",
      "execution_count": 8,
      "metadata": {
        "id": "kMeoPSLtDLKf"
      },
      "outputs": [],
      "source": [
        "SPACY_BASE_MODEL = spacy_config['components']['ner']['source']"
      ]
    },
    {
      "cell_type": "code",
      "execution_count": 9,
      "metadata": {
        "id": "6NSq3JLTDLKg",
        "colab": {
          "base_uri": "https://localhost:8080/"
        },
        "outputId": "68280bd1-6074-4cf2-daa7-1b428f75f8d3"
      },
      "outputs": [
        {
          "output_type": "stream",
          "name": "stdout",
          "text": [
            "\u001b[38;5;2m✔ Download and installation successful\u001b[0m\n",
            "You can now load the package via spacy.load('en_core_web_md')\n",
            "\u001b[38;5;3m⚠ Restart to reload dependencies\u001b[0m\n",
            "If you are in a Jupyter or Colab notebook, you may need to restart Python in\n",
            "order to load all the package's dependencies. You can do this by selecting the\n",
            "'Restart kernel' or 'Restart runtime' option.\n"
          ]
        }
      ],
      "source": [
        "try:\n",
        "    _ = spacy.load(SPACY_BASE_MODEL)\n",
        "except:\n",
        "    spacy.cli.download(SPACY_BASE_MODEL)"
      ]
    },
    {
      "cell_type": "markdown",
      "metadata": {
        "id": "n86fesV_DLKh"
      },
      "source": [
        "# Fine-Tune Spacy"
      ]
    },
    {
      "cell_type": "code",
      "source": [
        "!python -m spacy init fill-config {SPACY_CONFIG_PATH} {SPACY_FULL_CONFIG_PATH}"
      ],
      "metadata": {
        "colab": {
          "base_uri": "https://localhost:8080/"
        },
        "id": "m4MPiIFTYeoV",
        "outputId": "c8990c48-3e55-4334-f5fd-bb52449055a7"
      },
      "execution_count": 10,
      "outputs": [
        {
          "output_type": "stream",
          "name": "stdout",
          "text": [
            "\u001b[38;5;2m✔ Auto-filled config with all values\u001b[0m\n",
            "\u001b[38;5;2m✔ Saved config\u001b[0m\n",
            "gdrive/MyDrive/Work/quantify-news/spacy_config.cfg\n",
            "You can now add your data and train your pipeline:\n",
            "python -m spacy train spacy_config.cfg --paths.train ./train.spacy --paths.dev ./dev.spacy\n"
          ]
        }
      ]
    },
    {
      "cell_type": "code",
      "source": [
        "# !python -m spacy train {SPACY_FULL_CONFIG_PATH} --gpu-id {GPU_ID} --output {MODEL_OUTPUT_PATH}"
      ],
      "metadata": {
        "id": "sll0hS12RqBD"
      },
      "execution_count": null,
      "outputs": []
    },
    {
      "cell_type": "markdown",
      "metadata": {
        "id": "VdgAnLV7DLKk"
      },
      "source": [
        "## Hyperparameter tuning"
      ]
    },
    {
      "cell_type": "code",
      "source": [
        "def shell(command, time_fmt=None):\n",
        "    start = time.time()\n",
        "    process = subprocess.Popen(command, shell=False,\n",
        "                               stdout=subprocess.PIPE,\n",
        "                               stderr=subprocess.STDOUT,\n",
        "                               text=True,\n",
        "                               encoding='utf-8',\n",
        "                               bufsize=1)\n",
        "    for line in process.stdout:\n",
        "        print(line, end='', flush=True)\n",
        "    process.wait()\n",
        "    end = time.time()\n",
        "\n",
        "    print(time_fmt.format(end - start))\n"
      ],
      "metadata": {
        "id": "G1iBHhoxpm1y"
      },
      "execution_count": null,
      "outputs": []
    },
    {
      "cell_type": "code",
      "execution_count": null,
      "metadata": {
        "id": "JbM8VAr0DLKl"
      },
      "outputs": [],
      "source": [
        "def objective(trial):\n",
        "    start_size = trial.suggest_int(\"start_size\", 100, 500)  # Tune batch start\n",
        "    stop_size = trial.suggest_int(\"stop_size\", 1000, 5000)  # Tune batch stop\n",
        "    learning_rate = trial.suggest_float(\"lr\", 1e-5, 1e-3, log=True)\n",
        "\n",
        "    command = [\n",
        "        \"python\", \"-m\", \"spacy\",\n",
        "        \"train\", SPACY_FULL_CONFIG_PATH,\n",
        "        \"--gpu-id\", GPU_ID,\n",
        "        \"--training.batcher.size.start\", str(start_size),\n",
        "        \"--training.batcher.size.stop\", str(stop_size),\n",
        "        \"--training.optimizer.learn_rate\", str(learning_rate),\n",
        "        \"--output\", MODEL_OUTPUT_PATH,\n",
        "    ]\n",
        "    # TODO: I can use spacy.cli.train.train here instead of shell proc!\n",
        "    shell(command, \"Training time: {:.4f} sec\")\n",
        "\n",
        "    with open(LAST_MODEL_RESULTS_PATH) as fp:\n",
        "        result = json.load(fp)\n",
        "\n",
        "    return result['performance']['ents_f']\n",
        "\n",
        "\n",
        "\n",
        "class SaveBestModelCallback:\n",
        "    def __call__(self, study: optuna.study.Study, trial: optuna.trial.FrozenTrial) -> None:\n",
        "        if study.best_value <= trial.value:\n",
        "            shutil.copytree(LAST_MODEL_PATH, BEST_MODEL_PATH)"
      ]
    },
    {
      "cell_type": "code",
      "source": [
        "study = optuna.create_study(study_name=HP_STUDY_NAME, direction=\"maximize\",\n",
        "                            storage=HP_HISTORY_PATH, load_if_exists=True,\n",
        "                            callbacks=[SaveBestModelCallback()])"
      ],
      "metadata": {
        "id": "YXzT0nJKigRS"
      },
      "execution_count": null,
      "outputs": []
    },
    {
      "cell_type": "code",
      "execution_count": null,
      "metadata": {
        "id": "7kBmOU1TDLKm"
      },
      "outputs": [],
      "source": [
        "study.optimize(objective, n_trials=20)"
      ]
    },
    {
      "cell_type": "markdown",
      "metadata": {
        "id": "bjfnOI6RDLKm"
      },
      "source": [
        "# Evaluate"
      ]
    },
    {
      "cell_type": "code",
      "source": [
        "print(\"Best F1 (on val):\")\n",
        "print(study.best_value)\n",
        "print(\"Best params:\")\n",
        "print(study.best_params)"
      ],
      "metadata": {
        "id": "fEY-tNuuiahE"
      },
      "execution_count": null,
      "outputs": []
    },
    {
      "cell_type": "markdown",
      "source": [
        "## Visualize sample"
      ],
      "metadata": {
        "id": "eo97wELd9CDh"
      }
    },
    {
      "cell_type": "code",
      "execution_count": 15,
      "metadata": {
        "id": "ZHxnYIjYDLKn"
      },
      "outputs": [],
      "source": [
        "if not os.path.exists(SAMPLE_OUTPUT_PATH):\n",
        "    os.makedirs(SAMPLE_OUTPUT_PATH)"
      ]
    },
    {
      "cell_type": "code",
      "source": [
        "!python -m spacy \\\n",
        "  benchmark accuracy \\\n",
        "  {BEST_MODEL_PATH} {DATA_TEST_BIN_PATH} \\\n",
        "  --output {METRICS_OUTPUT_PATH} \\\n",
        "  --displacy-path {SAMPLE_OUTPUT_PATH}"
      ],
      "metadata": {
        "id": "blviPAMKZAjF",
        "colab": {
          "base_uri": "https://localhost:8080/"
        },
        "collapsed": true,
        "outputId": "28c6d07e-b534-446a-b5c8-ce8c0dd12a7a"
      },
      "execution_count": 18,
      "outputs": [
        {
          "output_type": "stream",
          "name": "stdout",
          "text": [
            "\u001b[38;5;4mℹ Using CPU\u001b[0m\n",
            "\u001b[1m\n",
            "================================== Results ==================================\u001b[0m\n",
            "\n",
            "TOK     100.00\n",
            "NER P   74.64 \n",
            "NER R   51.52 \n",
            "NER F   60.97 \n",
            "SPEED   15911 \n",
            "\n",
            "\u001b[1m\n",
            "=============================== NER (per type) ===============================\u001b[0m\n",
            "\n",
            "               P       R       F\n",
            "NEWS_LOC   74.64   51.52   60.97\n",
            "\n",
            "/usr/local/lib/python3.11/dist-packages/spacy/displacy/__init__.py:213: UserWarning: [W006] No entities to visualize found in Doc object. If this is surprising to you, make sure the Doc was processed using a model that supports named entity recognition, and check the `doc.ents` property manually if necessary.\n",
            "  warnings.warn(Warnings.W006)\n",
            "<IPython.core.display.HTML object>\n",
            "Traceback (most recent call last):\n",
            "  File \"<frozen runpy>\", line 198, in _run_module_as_main\n",
            "  File \"<frozen runpy>\", line 88, in _run_code\n",
            "  File \"/usr/local/lib/python3.11/dist-packages/spacy/__main__.py\", line 4, in <module>\n",
            "    setup_cli()\n",
            "  File \"/usr/local/lib/python3.11/dist-packages/spacy/cli/_util.py\", line 87, in setup_cli\n",
            "    command(prog_name=COMMAND)\n",
            "  File \"/usr/local/lib/python3.11/dist-packages/click/core.py\", line 1161, in __call__\n",
            "    return self.main(*args, **kwargs)\n",
            "           ^^^^^^^^^^^^^^^^^^^^^^^^^^\n",
            "  File \"/usr/local/lib/python3.11/dist-packages/typer/core.py\", line 740, in main\n",
            "    return _main(\n",
            "           ^^^^^^\n",
            "  File \"/usr/local/lib/python3.11/dist-packages/typer/core.py\", line 195, in _main\n",
            "    rv = self.invoke(ctx)\n",
            "         ^^^^^^^^^^^^^^^^\n",
            "  File \"/usr/local/lib/python3.11/dist-packages/click/core.py\", line 1697, in invoke\n",
            "    return _process_result(sub_ctx.command.invoke(sub_ctx))\n",
            "                           ^^^^^^^^^^^^^^^^^^^^^^^^^^^^^^^\n",
            "  File \"/usr/local/lib/python3.11/dist-packages/click/core.py\", line 1697, in invoke\n",
            "    return _process_result(sub_ctx.command.invoke(sub_ctx))\n",
            "                           ^^^^^^^^^^^^^^^^^^^^^^^^^^^^^^^\n",
            "  File \"/usr/local/lib/python3.11/dist-packages/click/core.py\", line 1443, in invoke\n",
            "    return ctx.invoke(self.callback, **ctx.params)\n",
            "           ^^^^^^^^^^^^^^^^^^^^^^^^^^^^^^^^^^^^^^^\n",
            "  File \"/usr/local/lib/python3.11/dist-packages/click/core.py\", line 788, in invoke\n",
            "    return __callback(*args, **kwargs)\n",
            "           ^^^^^^^^^^^^^^^^^^^^^^^^^^^\n",
            "  File \"/usr/local/lib/python3.11/dist-packages/typer/main.py\", line 697, in wrapper\n",
            "    return callback(**use_params)\n",
            "           ^^^^^^^^^^^^^^^^^^^^^^\n",
            "  File \"/usr/local/lib/python3.11/dist-packages/spacy/cli/evaluate.py\", line 47, in evaluate_cli\n",
            "    evaluate(\n",
            "  File \"/usr/local/lib/python3.11/dist-packages/spacy/cli/evaluate.py\", line 141, in evaluate\n",
            "    render_parses(\n",
            "  File \"/usr/local/lib/python3.11/dist-packages/spacy/cli/evaluate.py\", line 208, in render_parses\n",
            "    file_.write(html)\n",
            "TypeError: write() argument must be str, not None\n"
          ]
        }
      ]
    },
    {
      "cell_type": "markdown",
      "source": [
        "## Run and test confusion matrix"
      ],
      "metadata": {
        "id": "1k3qebHC9EXX"
      }
    },
    {
      "cell_type": "code",
      "source": [
        "from spacy.tokens import DocBin"
      ],
      "metadata": {
        "id": "D0sw0EIz6EI-"
      },
      "execution_count": 29,
      "outputs": []
    },
    {
      "cell_type": "code",
      "source": [
        "from dataclasses import dataclass\n",
        "\n",
        "@dataclass\n",
        "class RowScore:\n",
        "    true_pos: int\n",
        "    false_pos: int\n",
        "    false_neg: int\n",
        "\n",
        "    def __init__(self, true_pos, false_pos, false_neg):\n",
        "        self.true_pos = true_pos #dataclass ought to handle this but doesn't in colab?\n",
        "        self.false_pos = false_pos\n",
        "        self.false_neg = false_neg\n",
        "        if true_pos + false_pos == 0:\n",
        "            self.precision = 0\n",
        "        else:\n",
        "            self.precision = true_pos / (true_pos + false_pos)\n",
        "\n",
        "        if true_pos + false_neg == 0:\n",
        "            self.recall = 0\n",
        "        else:\n",
        "            self.recall = true_pos / (true_pos + false_neg)\n",
        "\n",
        "        if self.precision == 0 or self.recall == 0:\n",
        "            self.f1 = 0\n",
        "        else:\n",
        "            self.f1 = 2 / (1 / self.precision + 1 / self.recall)\n",
        "\n",
        "    def __str__(self):\n",
        "        return f\"RowScore(precision={self.precision:.2e}, recall={self.recall:.2e}, f1={self.f1:.2e})\"\n",
        "\n",
        "    def __add__(self, other):\n",
        "        if not isinstance(other, RowScore):\n",
        "            raise TypeError(\"other must be RowScore\")\n",
        "        return RowScore(self.true_pos + other.true_pos,\n",
        "                        self.false_pos + other.false_pos,\n",
        "                        self.false_neg + other.false_neg)\n",
        "\n",
        "    def score(self):\n",
        "        print(self.true_pos, self.false_pos, self.false_neg)\n",
        "        print(\"Strict index and text matches:\")\n",
        "        print(\"Precision: {:.4f}\".format(self.precision))\n",
        "        print(\"Recall: {:.4f}\".format(self.recall))\n",
        "        print(\"F1: {:.4f}\".format(self.f1))\n",
        "        return self.f1"
      ],
      "metadata": {
        "id": "ZjqvRdZS7DUa"
      },
      "execution_count": 54,
      "outputs": []
    },
    {
      "cell_type": "code",
      "source": [
        "@dataclass\n",
        "class Entity:\n",
        "    label: str\n",
        "    start: int\n",
        "    end: int\n",
        "    text: str\n",
        "\n",
        "def score_row(d_pred, d_true):\n",
        "    y_pred = {e.text for e in d_pred.ents}\n",
        "    y_true = {e.text for e in d_true.ents}\n",
        "    true_pos = len(y_true & y_pred)\n",
        "    false_pos = len(y_pred - y_true)\n",
        "    false_neg = len(y_true - y_pred)\n",
        "    if false_pos:\n",
        "        print(\"False pos:\", y_pred - y_true)\n",
        "    if false_neg:\n",
        "        print(\"False neg:\", y_true - y_pred)\n",
        "    return RowScore(true_pos, false_pos, false_neg)"
      ],
      "metadata": {
        "id": "vLcjRY7x6JEt"
      },
      "execution_count": 74,
      "outputs": []
    },
    {
      "cell_type": "code",
      "source": [
        "!python -m spacy apply \\\n",
        "    {BEST_MODEL_PATH} \\\n",
        "    {DATA_DEV_BIN_PATH} \\ # TODO: Switch back to test path\n",
        "    {INFER_BIN_PATH} \\\n",
        "    --gpu-id \"-1\" \\\n",
        "    --force"
      ],
      "metadata": {
        "colab": {
          "base_uri": "https://localhost:8080/"
        },
        "id": "_LKs-IPa0ykU",
        "outputId": "b04383dc-5a68-4eaa-85ce-1e207d0982e4"
      },
      "execution_count": 70,
      "outputs": [
        {
          "output_type": "stream",
          "name": "stdout",
          "text": [
            "\u001b[38;5;4mℹ Using CPU\u001b[0m\n",
            "\u001b[38;5;2m✔ Loaded model gdrive/MyDrive/Work/quantify-news/models/model-best/\u001b[0m\n",
            "422it [00:10, 38.44it/s]\n"
          ]
        }
      ]
    },
    {
      "cell_type": "code",
      "source": [
        "nlp = spacy.load(BEST_MODEL_PATH)"
      ],
      "metadata": {
        "id": "wTm1GTqG5_JJ"
      },
      "execution_count": 27,
      "outputs": []
    },
    {
      "cell_type": "code",
      "source": [
        "inf_doc = DocBin().from_disk(INFER_BIN_PATH).get_docs(nlp.vocab)"
      ],
      "metadata": {
        "id": "D0Am0NyS3nRY"
      },
      "execution_count": 75,
      "outputs": []
    },
    {
      "cell_type": "code",
      "source": [
        "gold_doc = DocBin().from_disk(DATA_DEV_BIN_PATH).get_docs(nlp.vocab)  # TODO: Switch back to test path"
      ],
      "metadata": {
        "id": "nvEa5Rr05x1F"
      },
      "execution_count": 76,
      "outputs": []
    },
    {
      "cell_type": "code",
      "source": [
        "total_score = RowScore(0,0,0)\n",
        "for id, gd in zip(inf_doc, gold_doc):\n",
        "    total_score += score_row(id, gd)\n",
        "total_score.score()"
      ],
      "metadata": {
        "colab": {
          "base_uri": "https://localhost:8080/"
        },
        "id": "I7QFO--Q6Ltt",
        "outputId": "331cb942-6554-4a3d-afa5-f9a4edc12414"
      },
      "execution_count": 77,
      "outputs": [
        {
          "output_type": "stream",
          "name": "stdout",
          "text": [
            "False pos: {'4300 block of'}\n",
            "False pos: {'East Garfield Park neighborhood on the West Side.'}\n",
            "False pos: {'East Garfield Park neighborhood on the West Side.'}\n",
            "False pos: {'2320 E. 93rd St.,'}\n",
            "False pos: {'1800 block of South Farrar Drive,'}\n",
            "False pos: {'East Garfield Park neighborhood on the West Side.'}\n",
            "False pos: {'300 block of N. Parkside;', '900 block of N. Le Claire;', '1000 block of N. Waller.'}\n",
            "False pos: {'3900 block of West Monroe'}\n",
            "False pos: {'Back of the Yards neighborhood'}\n",
            "False pos: {'East Garfield Park neighborhood on the West Side,'}\n",
            "False pos: {'West  Chatham neighborhood'}\n",
            "False pos: {'Gresham'}\n",
            "False pos: {'7200 block of South University,'}\n",
            "False pos: {'400 block of South Kostner,'}\n",
            "False pos: {'5500 block of South Washtenaw,', '3100 block of West 71st Street,'}\n",
            "False pos: {'Back of the Yards'}\n",
            "False pos: {'2100 block of South Wabash'}\n",
            "False pos: {'2189 75th St,'}\n",
            "False pos: {'1800 block of North Ridgeway,'}\n",
            "False pos: {'100 block of North Leamington Avenue,'}\n",
            "False pos: {'0 to'}\n",
            "False pos: {'8100 block of S Coles'}\n",
            "False pos: {'Brighton Park neighborhood on the Southwest Side.'}\n",
            "False pos: {'1300 block of West Estes Avenue,', '1300 block of Estes,', '7000 block of North Glenwood'}\n",
            "False pos: {'1500 block of West Huron Street'}\n",
            "False pos: {'3400 block of South Prairie.'}\n",
            "False pos: {'1311 Ridgeland Ave.'}\n",
            "False pos: {'4600 block N. Broadway)', '6400 block of North Oakley Avenue,'}\n",
            "False pos: {'6100 block of South Kenneth,', '5600 block of South Springfield Avenue,'}\n",
            "False pos: {'3000 West Warren Boulevard,'}\n",
            "False pos: {'Avers and Elston.'}\n",
            "False pos: {'2452 W. Belmont,'}\n",
            "False pos: {'1100 block of West Lawrence Avenue.', '1100 block of West Cook Street'}\n",
            "False pos: {'19th Avenue and Hanley Street'}\n",
            "False pos: {'500 block of West Arlington.', '1300 block of West Wellington,', '2200 block of West Melrose', '1800 block of West Roscoe,', '1800 block of West Larchmont,', '3500 block of North Leavitt,'}\n",
            "False pos: {'400 block of Callan Avenue'}\n",
            "False pos: {'4700 block of West Lake Street'}\n",
            "False pos: {'66th and King.'}\n",
            "False pos: {'Hoyne and Adams.'}\n",
            "False pos: {'400 block of Jefferson Street.', '1800 block Nottingham,'}\n",
            "False pos: {'Halsted and Fullerton'}\n",
            "False pos: {'12000 block of South Union Avenue,'}\n",
            "False pos: {'700 block of East 116th Place,'}\n",
            "False pos: {'6200 block of South Langley Avenue,'}\n",
            "False pos: {'4677 N. Elston Ave.'}\n",
            "False pos: {'Back of the Yards,', 'Back of the Yards.'}\n",
            "False pos: {'62nd Street and California Avenue,'}\n",
            "False pos: {'East Chatham neighborhood.'}\n",
            "False pos: {'2400 block of North Clybourn'}\n",
            "False pos: {'3100 block of West Fulton Ave', '200 block of West 106th St in Chicago.', '3800 block of West Gladys.'}\n",
            "False pos: {'8700 block of South Burley Avenue,'}\n",
            "False pos: {'900 block of Grove Street,', '900 block of Fourth Avenue,', '900 block of the street.', '900 block of Superior Street.'}\n",
            "False pos: {'Back of the Yards'}\n",
            "False pos: {'8800 block of South Princeton', 'Back of the Yards,', '500 block of West Oak Street.', '6200 block of South Sangamon.'}\n",
            "False pos: {'7300 block of South King Drive,', 'East Garfield Park neighborhood on the West Side.', '4700 block of West Gladys.', '9200 block of South Dobson.'}\n",
            "False pos: {'East Garfield Park neighborhood on the West Side.'}\n",
            "False pos: {'37th and Indiana Avenue.'}\n",
            "False pos: {'1300 block of West 57th St.'}\n",
            "False pos: {'7400 block of South Princeton.'}\n",
            "False pos: {'3700 block of Eastmont Drive in South Bend,', '1100 block of'}\n",
            "False pos: {'1400 block of East 71st Street.', '3900 block of South Albany Avenue'}\n",
            "False pos: {'6900 block of South Hermitage', '1100 block of South Francisco', '5900 block of South Calumet', '1600 block of North Cicero'}\n",
            "False pos: {'900 block of Belleforte Avenue'}\n",
            "False pos: {'East Garfield Park neighborhood,', '200 block of South Western Avenue'}\n",
            "False pos: {'Kedzie and Addison.'}\n",
            "1055 97 0\n",
            "Strict index and text matches:\n",
            "Precision: 0.9158\n",
            "Recall: 1.0000\n",
            "F1: 0.9560\n"
          ]
        },
        {
          "output_type": "execute_result",
          "data": {
            "text/plain": [
              "0.9560489352061623"
            ]
          },
          "metadata": {},
          "execution_count": 77
        }
      ]
    },
    {
      "cell_type": "code",
      "source": [],
      "metadata": {
        "id": "YujqpEbI6RAK"
      },
      "execution_count": null,
      "outputs": []
    },
    {
      "cell_type": "markdown",
      "source": [
        "XXX: this actually looks like it's doing well! it has great recall.\n",
        "actually it doen't have any false negatives. and the false positives are all\n",
        "IMO locations. so maybe don't need to do anything else?\n",
        "\n",
        "Ok but i'm confused because i replicated this on the dev data and also didn't\n",
        "get a false negative. but the trial didn't have 100% recall. so what is\n",
        "going on here?"
      ],
      "metadata": {
        "id": "uSZGIKkA9ZJw"
      }
    }
  ],
  "metadata": {
    "kernelspec": {
      "display_name": "Python 3",
      "name": "python3"
    },
    "language_info": {
      "codemirror_mode": {
        "name": "ipython",
        "version": 3
      },
      "file_extension": ".py",
      "mimetype": "text/x-python",
      "name": "python",
      "nbconvert_exporter": "python",
      "pygments_lexer": "ipython3",
      "version": "3.12.9"
    },
    "colab": {
      "provenance": [],
      "gpuType": "T4"
    },
    "accelerator": "GPU"
  },
  "nbformat": 4,
  "nbformat_minor": 0
}