{
  "nbformat": 4,
  "nbformat_minor": 0,
  "metadata": {
    "colab": {
      "provenance": []
    },
    "kernelspec": {
      "name": "python3",
      "display_name": "Python 3"
    },
    "language_info": {
      "name": "python"
    }
  },
  "cells": [
    {
      "cell_type": "code",
      "execution_count": 1,
      "metadata": {
        "id": "zB3nWfgaKO_1"
      },
      "outputs": [],
      "source": [
        "import pandas as pd\n",
        "from zipfile import ZipFile\n",
        "import pyarrow.parquet as pq\n",
        "import gzip\n",
        "import json\n",
        "import pyarrow as pa\n",
        "import os\n",
        "import geopandas as gpd\n",
        "from shapely.geometry import Point, Polygon\n",
        "from shapely import from_wkt"
      ]
    },
    {
      "cell_type": "code",
      "source": [
        "COLAB = True"
      ],
      "metadata": {
        "id": "mL9s5IgbKyCy"
      },
      "execution_count": 2,
      "outputs": []
    },
    {
      "cell_type": "code",
      "source": [
        "DATA_DIR = \"gdrive/MyDrive/Work/quantify-news/data/\" if COLAB else \"data/\"\n",
        "\n",
        "COMM_AREA_PATH = DATA_DIR + \"CommAreas_2025.csv\"\n",
        "STREET_SEG_PATH = DATA_DIR + \"StreetSegments_2025.geojson\"\n",
        "BLOCK_COMMUNITY_PATH = DATA_DIR + \"BlockCommunities.csv\""
      ],
      "metadata": {
        "id": "L1l700BzK0H6"
      },
      "execution_count": 3,
      "outputs": []
    },
    {
      "cell_type": "code",
      "source": [
        "if COLAB:\n",
        "    from google.colab import drive\n",
        "    drive.mount('/content/gdrive')"
      ],
      "metadata": {
        "colab": {
          "base_uri": "https://localhost:8080/"
        },
        "id": "ugCH-_FSM5c1",
        "outputId": "1b185c48-a47a-485c-cb54-40c9dafc1576"
      },
      "execution_count": 4,
      "outputs": [
        {
          "output_type": "stream",
          "name": "stdout",
          "text": [
            "Drive already mounted at /content/gdrive; to attempt to forcibly remount, call drive.mount(\"/content/gdrive\", force_remount=True).\n"
          ]
        }
      ]
    },
    {
      "cell_type": "markdown",
      "source": [
        "# Read Data"
      ],
      "metadata": {
        "id": "GrB6Xc9HNGkB"
      }
    },
    {
      "cell_type": "code",
      "source": [
        "comm_areas = pd.read_csv(COMM_AREA_PATH)\n",
        "street_segs = gpd.read_file(STREET_SEG_PATH)"
      ],
      "metadata": {
        "id": "qJw6odaQK_Hc"
      },
      "execution_count": 5,
      "outputs": []
    },
    {
      "cell_type": "code",
      "source": [
        "street_type_codes = {\n",
        "    \"AVE\": \"AVENUE\",\n",
        "    \"BLVD\": \"BOULEVARD\",\n",
        "    \"CRES\": \"CRESCENT COURT\",\n",
        "    \"CT\": \"COURT\",\n",
        "    \"DR\": \"DRIVE\",\n",
        "    \"ER\": \"ENTRANCE RAMP\",\n",
        "    \"EXPY\": \"EXPRESSWAY\",\n",
        "    \"HWY\": \"HIGHWAY\",\n",
        "    \"LN\": \"LANE\",\n",
        "    \"PKWY\": \"PARK WAY\",\n",
        "    \"PL\": \"PLACE\",\n",
        "    \"ROW\": \"ROW\",\n",
        "    \"SQ\": \"SQUARE\",\n",
        "    \"SR\": \"SERVICE ROAD\",\n",
        "    \"ST\": \"STREET\",\n",
        "    \"TER\": \"TERRACE\",\n",
        "    \"TOLL\": \"TOLL WAY\",\n",
        "    \"VIA\": \"WAY\",\n",
        "    \"WAY\": \"EXIT RAMP\"\n",
        "}\n"
      ],
      "metadata": {
        "id": "eFQMps4OM3E5"
      },
      "execution_count": 6,
      "outputs": []
    },
    {
      "cell_type": "code",
      "source": [
        "suf_dir_codes = {\n",
        "    \"N\": \"NORTH\",\n",
        "    \"S\": \"SOUTH\",\n",
        "    \"E\": \"EAST\",\n",
        "    \"W\": \"WEST\",\n",
        "    \"OP\": \"OVERPASS\",\n",
        "    \"IB\": \"INBOUND\",\n",
        "    \"OB\": \"OUTBOUND\",\n",
        "    \"NB\": \"NORTHBOUND\",\n",
        "    \"SB\": \"SOUTHBOUND\",\n",
        "    \"EB\": \"EASTBOUND\",\n",
        "    \"WB\": \"WESTBOUND\"\n",
        "}\n"
      ],
      "metadata": {
        "id": "pXSKLwcLOFs7"
      },
      "execution_count": 7,
      "outputs": []
    },
    {
      "cell_type": "markdown",
      "source": [
        "# Clean"
      ],
      "metadata": {
        "id": "LpiQ25KCPXDG"
      }
    },
    {
      "cell_type": "markdown",
      "source": [
        "## Comm areas"
      ],
      "metadata": {
        "id": "k4HGEj-sRBT_"
      }
    },
    {
      "cell_type": "code",
      "source": [
        "comm_areas['geometry'] = comm_areas['the_geom'].apply(from_wkt)\n",
        "assert comm_areas['AREA_NUMBE'].nunique() == len(comm_areas)\n",
        "assert all(comm_areas['AREA_NUM_1'] == comm_areas['AREA_NUMBE'])\n",
        "comm_areas['id'] = comm_areas['AREA_NUMBE']\n",
        "comm_areas = comm_areas.filter(['id','geometry','COMMUNITY'])\n",
        "comm_areas = comm_areas.rename(columns={'COMMUNITY':'community_name'})\n",
        "comm_areas = gpd.GeoDataFrame(comm_areas, geometry='geometry')"
      ],
      "metadata": {
        "id": "0FwoA6C7OU7C"
      },
      "execution_count": 8,
      "outputs": []
    },
    {
      "cell_type": "markdown",
      "source": [
        "## Streets"
      ],
      "metadata": {
        "id": "2lTQy3-xRDyK"
      }
    },
    {
      "cell_type": "code",
      "source": [
        "street_cols = ['PRE_DIR','STREET_NAM','STREET_TYP','SUF_DIR','L_F_ADD','L_T_ADD','R_F_ADD','R_T_ADD','F_CROSS','T_CROSS','LENGTH','L_ZIP','R_ZIP']\n",
        "street_cols = [x.lower() for x in street_cols]\n",
        "assert all([c in street_segs.columns for c in street_cols])\n",
        "street_segs = street_segs.filter(street_cols + ['geometry'])"
      ],
      "metadata": {
        "id": "qdHJ8QZaO7Bo"
      },
      "execution_count": 9,
      "outputs": []
    },
    {
      "cell_type": "code",
      "source": [
        "street_segs['from_num'] = pd.to_numeric(street_segs[['l_f_add','r_f_add']].min(axis=1), 'coerce')\n",
        "street_segs['to_num'] = pd.to_numeric(street_segs[['l_t_add','r_t_add']].max(axis=1), 'coerce')\n",
        "street_segs = street_segs.drop(['l_f_add','r_f_add','l_t_add','r_t_add'], axis=1)"
      ],
      "metadata": {
        "id": "QKRh0QkoQljZ"
      },
      "execution_count": 10,
      "outputs": []
    },
    {
      "cell_type": "code",
      "source": [
        "street_segs['street_typ_exp'] = street_segs['street_typ'].replace(street_type_codes)\n",
        "street_segs['suf_dir_exp'] = street_segs['suf_dir'].replace(suf_dir_codes)\n",
        "street_segs['pre_dir_exp'] = street_segs['pre_dir'].replace(suf_dir_codes)"
      ],
      "metadata": {
        "id": "JgIEcWMTZGmn"
      },
      "execution_count": 11,
      "outputs": []
    },
    {
      "cell_type": "code",
      "source": [
        "street_segs['street_typ_exp'] = street_segs['street_typ_exp'].str.title()\n",
        "street_segs['suf_dir_exp'] = street_segs['suf_dir_exp'].str.title()\n",
        "street_segs['pre_dir_exp'] = street_segs['pre_dir_exp'].str.title()\n",
        "street_segs['street_nam'] = street_segs['street_nam'].str.title()\n",
        "street_segs['street_typ'] = street_segs['street_typ'].str.title()"
      ],
      "metadata": {
        "id": "vXAS9pOvb3ML"
      },
      "execution_count": 12,
      "outputs": []
    },
    {
      "cell_type": "code",
      "source": [
        "def full_name(df:pd.DataFrame, pre:str, nam:str, typ:str, suf:str) -> pd.Series:\n",
        "    result = df[pre].fillna('') + \" \" + df[nam].fillna('') + \" \" + df[typ].fillna('') + \" \" + df[suf].fillna('')\n",
        "    return result.str.strip()\n",
        "\n",
        "street_segs['full_name1'] = street_segs.pipe(full_name, 'pre_dir','street_nam','street_typ','suf_dir')\n",
        "street_segs['full_name2'] = street_segs.pipe(full_name, 'pre_dir_exp','street_nam','street_typ','suf_dir_exp')\n",
        "street_segs['full_name3'] = street_segs.pipe(full_name, 'pre_dir','street_nam','street_typ_exp','suf_dir')\n",
        "street_segs['full_name4'] = street_segs.pipe(full_name, 'pre_dir_exp','street_nam','street_typ_exp','suf_dir_exp')"
      ],
      "metadata": {
        "id": "ihlBaPzuRUqy"
      },
      "execution_count": 13,
      "outputs": []
    },
    {
      "cell_type": "markdown",
      "source": [
        "# Create street block -> community mapping"
      ],
      "metadata": {
        "id": "aTeHJl1WfiyP"
      }
    },
    {
      "cell_type": "code",
      "source": [
        "street_blocks = []\n",
        "for row in street_segs.itertuples():\n",
        "    for block in filter(lambda x: x % 100 == 0, range(row.from_num, row.to_num + 1)):\n",
        "        street_blocks.append({\n",
        "            'geometry': row.geometry,\n",
        "            'block_name1': str(block) + \" block of \" + row.full_name1,\n",
        "            'block_name2': str(block) + \" block of \" + row.full_name2,\n",
        "            'block_name3': str(block) + \" block of \" + row.full_name3,\n",
        "            'block_name4': str(block) + \" block of \" + row.full_name4,\n",
        "        })\n",
        "street_blocks = gpd.GeoDataFrame(street_blocks, geometry='geometry')"
      ],
      "metadata": {
        "id": "gHeJs-PpR0q9"
      },
      "execution_count": 14,
      "outputs": []
    },
    {
      "cell_type": "code",
      "source": [
        "street_blocks = street_blocks.sjoin(comm_areas[['community_name','geometry']],\n",
        "                    how='inner',\n",
        "                    predicate='intersects',\n",
        "                    lsuffix='street',\n",
        "                    rsuffix='comm').drop(columns=['index_comm','geometry'])"
      ],
      "metadata": {
        "id": "VptgmXptVeup"
      },
      "execution_count": 15,
      "outputs": []
    },
    {
      "cell_type": "code",
      "source": [
        "street_blocks = (street_blocks.melt(id_vars=['community_name'],\n",
        "                   value_vars=['block_name1', 'block_name2', 'block_name3', 'block_name4'],\n",
        "                   var_name='exp',\n",
        "                   value_name='block_name')\n",
        "                .drop(columns=['exp'])\n",
        "                .drop_duplicates())"
      ],
      "metadata": {
        "id": "d0BVh1wGYLX1"
      },
      "execution_count": 16,
      "outputs": []
    },
    {
      "cell_type": "code",
      "source": [
        "street_blocks[['block_name','community_name']].to_csv(BLOCK_COMMUNITY_PATH)"
      ],
      "metadata": {
        "id": "31qch1uhfuUb"
      },
      "execution_count": 17,
      "outputs": []
    },
    {
      "cell_type": "markdown",
      "source": [
        "**TODO**:\n",
        "* Redo similar logic using from and to cross streets?"
      ],
      "metadata": {
        "id": "g63ipvyuQYqH"
      }
    },
    {
      "cell_type": "code",
      "source": [],
      "metadata": {
        "id": "hFiwIghWhIir"
      },
      "execution_count": 17,
      "outputs": []
    }
  ]
}